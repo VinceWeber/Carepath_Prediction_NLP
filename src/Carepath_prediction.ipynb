{
 "cells": [
  {
   "cell_type": "markdown",
   "metadata": {},
   "source": [
    "# 0- Introduction general"
   ]
  },
  {
   "cell_type": "markdown",
   "metadata": {},
   "source": [
    "- Problematic"
   ]
  },
  {
   "cell_type": "markdown",
   "metadata": {},
   "source": [
    "- Structure of the data"
   ]
  },
  {
   "cell_type": "markdown",
   "metadata": {},
   "source": [
    "- Strategy"
   ]
  },
  {
   "cell_type": "markdown",
   "metadata": {},
   "source": [
    "# 1- Importation of all necessary libraries and configuration of parameters"
   ]
  },
  {
   "cell_type": "markdown",
   "metadata": {},
   "source": [
    "- Importation of libraries"
   ]
  },
  {
   "cell_type": "code",
   "execution_count": 1,
   "metadata": {},
   "outputs": [],
   "source": [
    "#Module configuration\n",
    "#from py2neo import Graph #Database connection\n",
    "import neomodel\n",
    "import pandas as pd\n",
    "import datetime"
   ]
  },
  {
   "cell_type": "markdown",
   "metadata": {},
   "source": [
    "- Configuration of database basic settings"
   ]
  },
  {
   "cell_type": "code",
   "execution_count": 2,
   "metadata": {},
   "outputs": [],
   "source": [
    "from neomodel import config\n",
    "\n",
    "neo4jServerAdress = \"172.21.56.47\"\n",
    "neo4jConnectionPort = 7687  #Connection to server bolt\n",
    "user= \"neo4j\" \n",
    "password= \"Mypassword%2023\"\n",
    "config.DATABASE_URL='bolt://' +user + ':' + password + '@' + neo4jServerAdress + ':' + str(neo4jConnectionPort)\n",
    "\n",
    "embeddingNbDimensions=20 # 3  # or None\n"
   ]
  },
  {
   "cell_type": "code",
   "execution_count": 3,
   "metadata": {},
   "outputs": [],
   "source": [
    "from neomodel import (config, StructuredNode, StringProperty, IntegerProperty,DateTimeProperty,\n",
    "                    DateTimeFormatProperty,UniqueIdProperty, RelationshipTo,StructuredRel)\n",
    "\n",
    "config.DATABASE_URL='bolt://' +user + ':' + password + '@' + neo4jServerAdress + ':' + str(neo4jConnectionPort)\n",
    "\n",
    "#NIP\tJ_Parcours\tDateDebutActe\tDateFinActe\tUF\tService\tPhase_Parcours\tActivite\tDimension_Parcours\tRef_Acte\tid_Sequence\tType_Sequence\tid_sejour\n",
    "\n",
    "class FOLLOWED_BY(StructuredRel):\n",
    "    Nb_Days = IntegerProperty(index=True, default=0)\n",
    "    NIP=StringProperty(required=False)\n",
    "\n",
    "class Acte(StructuredNode):\n",
    "    Ref_Acte = StringProperty(required=True)\n",
    "    J_Parcours=IntegerProperty(required=True)\n",
    "    Duree = IntegerProperty(required=True)\n",
    "    UF = StringProperty(required=True)\n",
    "    #Service = StringProperty(required=True)\n",
    "    #Phase_Parcours =StringProperty(required=True)\n",
    "    #Activite =StringProperty(required=True)\n",
    "    #Dimension_Parcours = StringProperty(required=True)\n",
    "    Nombre_actes=IntegerProperty(required=False, default=1)     \n",
    "    Carepath = RelationshipTo('Acte', 'FOLLOWED_BY', model=FOLLOWED_BY)\n",
    "\n",
    "class Patient(StructuredNode):\n",
    "    NIP = StringProperty(unique_index=True, required=True)\n",
    "    J0 = StringProperty(required=True)\n",
    "    J_Parcours = IntegerProperty(required=False, default=0)\n",
    "    Carepath = RelationshipTo('Acte', 'BEGIN_CAREPATH_WITH', model=FOLLOWED_BY)\n"
   ]
  },
  {
   "cell_type": "markdown",
   "metadata": {},
   "source": [
    "- Some usefull functions"
   ]
  },
  {
   "cell_type": "code",
   "execution_count": 4,
   "metadata": {},
   "outputs": [],
   "source": [
    "#Function to extract information from a row\n",
    "date_format = '%Y-%m-%d %H:%M:%S.%f'\n",
    "\n",
    "def extract_data(row):\n",
    "    from datetime import datetime\n",
    "    acte = {\n",
    "        'Jp': row.get('J_Parcours', None),\n",
    "        'DDA': datetime.strptime(row.get('DateDebutActe', None), date_format),\n",
    "        'DDF': datetime.strptime(row.get('DateFinActe', None), date_format),\n",
    "        'Ref': row.get('Ref_Acte', None),\n",
    "        'NIP': row.get('NIP', None),\n",
    "        'UFname': str(row.get('UF', None)),\n",
    "        'service': row.get('Service', None),\n",
    "        'phase_parcours': row.get('Phase_Parcours', None).replace(\" \", \"\"),\n",
    "        'activite': row.get('Activite', None),\n",
    "        'dim_parcours': row.get('Dimension_Parcours', None),\n",
    "        'Sequence_id': row.get('id_Sequence', None),\n",
    "        'Sequence_Type': row.get('Type_Sequence', None),\n",
    "        'Sejour_id': row.get('id_sejour', None)\n",
    "    }\n",
    "\n",
    "    return acte\n",
    "\n",
    "\n",
    "#Define a query function\n",
    "def myquery(query, params=None):\n",
    "    from neomodel import db\n",
    "    results, meta = db.cypher_query(query, params, resolve_objects=True)\n",
    "    \n",
    "    \n",
    "    return results, meta\n",
    "\n",
    "#Append to a node tuple\n",
    "\n",
    "def myappend(alist,value):\n",
    "    if not isinstance(alist, list):\n",
    "        newlist=[alist]\n",
    "    else:\n",
    "        newlist=alist\n",
    "    newlist.append(value)\n",
    "\n",
    "    return newlist\n",
    "\n",
    "\n",
    "#Define a function to create a new acte \n",
    "def create_acte(myActe):\n",
    "    new_acte=Acte(\n",
    "                    Ref_Acte = myActe['Ref'],\n",
    "                    Duree = int((myActe['DDF'] - myActe['DDA']).total_seconds()),\n",
    "                    J_Parcours = myActe['Jp'],\n",
    "                    UF = myActe['UFname'],\n",
    "                    #Service = myActe['service'],\n",
    "                    #Phase_Parcours = myActe['phase_parcours'],\n",
    "                    #Activite = myActe['activite'],\n",
    "                    #Dimension_Parcours = myActe['dim_parcours'],\n",
    "                ).save()\n",
    "    return new_acte\n",
    "\n",
    "def update_acte(myNodeActe, myNewActe):\n",
    "    \n",
    "    #Check if J_Parcours is th same between NodeActe and NewActe\n",
    "\n",
    "    if myNodeActe.J_Parcours==myNewActe['Jp']:\n",
    "        myNodeActe.Ref_Acte=myappend(myNodeActe.Ref_Acte,myNewActe['Ref'])\n",
    "        myNodeActe.UF=myappend(myNodeActe.UF,myNewActe['UFname'])\n",
    "        #myNodeActe.Service=myappend(myNodeActe.Service,myNewActe['service'])\n",
    "        #myNodeActe.Phase_Parcours=myappend(myNodeActe.Phase_Parcours,myNewActe['phase_parcours'])\n",
    "        #myNodeActe.Activite=myappend(myNodeActe.Activite,myNewActe['activite'])\n",
    "        #myNodeActe.Dimension_Parcours=myappend(myNodeActe.Dimension_Parcours,myNewActe['dim_parcours'])\n",
    "        myNodeActe.Nombre_actes=myNodeActe.Nombre_actes+1\n",
    "        myNodeActe.save()\n",
    "        \n",
    "    else:\n",
    "        raise (f\"Error in Updating Node {myNodeActe.id}, the new Acte doesn't have the same J parcours !\")\n",
    "\n",
    "    return myNodeActe\n",
    "\n",
    "\n",
    "def create_Startnode(myActe):\n",
    "    startNode=Patient(\n",
    "                    NIP = myActe['NIP'],\n",
    "                    J0 = myActe['DDA']\n",
    "                    ).save()\n",
    "    return startNode"
   ]
  },
  {
   "cell_type": "markdown",
   "metadata": {},
   "source": [
    "# 2- Importation of patient database and transformation into graphical database"
   ]
  },
  {
   "cell_type": "markdown",
   "metadata": {},
   "source": [
    "- Importation of patient databases"
   ]
  },
  {
   "cell_type": "code",
   "execution_count": 5,
   "metadata": {},
   "outputs": [
    {
     "data": {
      "text/html": [
       "<div>\n",
       "<style scoped>\n",
       "    .dataframe tbody tr th:only-of-type {\n",
       "        vertical-align: middle;\n",
       "    }\n",
       "\n",
       "    .dataframe tbody tr th {\n",
       "        vertical-align: top;\n",
       "    }\n",
       "\n",
       "    .dataframe thead th {\n",
       "        text-align: right;\n",
       "    }\n",
       "</style>\n",
       "<table border=\"1\" class=\"dataframe\">\n",
       "  <thead>\n",
       "    <tr style=\"text-align: right;\">\n",
       "      <th></th>\n",
       "      <th>NIP</th>\n",
       "      <th>J_Parcours</th>\n",
       "      <th>DateDebutActe</th>\n",
       "      <th>DateFinActe</th>\n",
       "      <th>UF</th>\n",
       "      <th>Service</th>\n",
       "      <th>Phase_Parcours</th>\n",
       "      <th>Activite</th>\n",
       "      <th>Dimension_Parcours</th>\n",
       "      <th>Ref_Acte</th>\n",
       "      <th>id_Sequence</th>\n",
       "      <th>Type_Sequence</th>\n",
       "      <th>id_sejour</th>\n",
       "    </tr>\n",
       "  </thead>\n",
       "  <tbody>\n",
       "    <tr>\n",
       "      <th>0</th>\n",
       "      <td>S403800127</td>\n",
       "      <td>0</td>\n",
       "      <td>2019-01-02 00:00:00.00</td>\n",
       "      <td>2019-01-02 00:00:00.00</td>\n",
       "      <td>3003</td>\n",
       "      <td>Oéfgekpg Pwenécktg</td>\n",
       "      <td>Fkcipquvke</td>\n",
       "      <td>VGR</td>\n",
       "      <td>Uqkpu</td>\n",
       "      <td>HVPVR2</td>\n",
       "      <td>2</td>\n",
       "      <td>KPKV_PGY</td>\n",
       "      <td>S320035725</td>\n",
       "    </tr>\n",
       "    <tr>\n",
       "      <th>1</th>\n",
       "      <td>S403800127</td>\n",
       "      <td>0</td>\n",
       "      <td>2019-01-02 00:00:00.00</td>\n",
       "      <td>2019-01-02 00:00:00.00</td>\n",
       "      <td>25596</td>\n",
       "      <td>Oéfgekpg Pwenécktg</td>\n",
       "      <td>Fkcipquvke</td>\n",
       "      <td>VGR</td>\n",
       "      <td>Uqkpu</td>\n",
       "      <td>HVPVR2</td>\n",
       "      <td>2</td>\n",
       "      <td>KPKV_PGY</td>\n",
       "      <td>S3543441</td>\n",
       "    </tr>\n",
       "    <tr>\n",
       "      <th>2</th>\n",
       "      <td>S403800127</td>\n",
       "      <td>0</td>\n",
       "      <td>2019-01-02 00:00:00.00</td>\n",
       "      <td>2019-01-02 00:00:00.00</td>\n",
       "      <td>25596</td>\n",
       "      <td>Oéfgekpg Pwenécktg</td>\n",
       "      <td>Fkcipquvke</td>\n",
       "      <td>VGR</td>\n",
       "      <td>Uqkpu</td>\n",
       "      <td>BBSN016</td>\n",
       "      <td>2</td>\n",
       "      <td>KPKV_PGY</td>\n",
       "      <td>S3543441</td>\n",
       "    </tr>\n",
       "    <tr>\n",
       "      <th>3</th>\n",
       "      <td>S403800127</td>\n",
       "      <td>37</td>\n",
       "      <td>2019-02-08 00:00:00.00</td>\n",
       "      <td>2019-02-08 00:00:00.00</td>\n",
       "      <td>27150</td>\n",
       "      <td>Tcfkqvjétcrkg</td>\n",
       "      <td>Eqpuwnvcvkqp</td>\n",
       "      <td>Eqpuwnvcvkqpu</td>\n",
       "      <td>Uqkpu</td>\n",
       "      <td>EU</td>\n",
       "      <td>2</td>\n",
       "      <td>KPKV_PGY</td>\n",
       "      <td>S3582663</td>\n",
       "    </tr>\n",
       "    <tr>\n",
       "      <th>4</th>\n",
       "      <td>S403800127</td>\n",
       "      <td>37</td>\n",
       "      <td>2019-02-08 00:00:00.00</td>\n",
       "      <td>2019-02-08 00:00:00.00</td>\n",
       "      <td>27150</td>\n",
       "      <td>Tcfkqvjétcrkg</td>\n",
       "      <td>Eqpuwnvcvkqp</td>\n",
       "      <td>Eqpuwnvcvkqpu</td>\n",
       "      <td>Uqkpu</td>\n",
       "      <td>OEU</td>\n",
       "      <td>2</td>\n",
       "      <td>KPKV_PGY</td>\n",
       "      <td>S3582663</td>\n",
       "    </tr>\n",
       "    <tr>\n",
       "      <th>...</th>\n",
       "      <td>...</td>\n",
       "      <td>...</td>\n",
       "      <td>...</td>\n",
       "      <td>...</td>\n",
       "      <td>...</td>\n",
       "      <td>...</td>\n",
       "      <td>...</td>\n",
       "      <td>...</td>\n",
       "      <td>...</td>\n",
       "      <td>...</td>\n",
       "      <td>...</td>\n",
       "      <td>...</td>\n",
       "      <td>...</td>\n",
       "    </tr>\n",
       "    <tr>\n",
       "      <th>49676</th>\n",
       "      <td>S403808521</td>\n",
       "      <td>505</td>\n",
       "      <td>2020-11-13 00:00:00.00</td>\n",
       "      <td>2020-11-13 00:00:00.00</td>\n",
       "      <td>27096</td>\n",
       "      <td>Qpeqnqikg Ogfkecng</td>\n",
       "      <td>Vtckvgogpv</td>\n",
       "      <td>Codwncvqktg</td>\n",
       "      <td>Uqkpu</td>\n",
       "      <td>9032</td>\n",
       "      <td>14999</td>\n",
       "      <td>VTCKV</td>\n",
       "      <td>S4240735</td>\n",
       "    </tr>\n",
       "    <tr>\n",
       "      <th>49677</th>\n",
       "      <td>S403808521</td>\n",
       "      <td>505</td>\n",
       "      <td>2020-11-13 00:00:00.00</td>\n",
       "      <td>2020-11-13 00:00:00.00</td>\n",
       "      <td>27177</td>\n",
       "      <td>Qpeqnqikg Ogfkecng</td>\n",
       "      <td>Eqpuwnvcvkqp</td>\n",
       "      <td>Eqpuwnvcvkqpu</td>\n",
       "      <td>Uqkpu</td>\n",
       "      <td>EU</td>\n",
       "      <td>14998</td>\n",
       "      <td>UWKXK_EV</td>\n",
       "      <td>S4240509</td>\n",
       "    </tr>\n",
       "    <tr>\n",
       "      <th>49678</th>\n",
       "      <td>S403808521</td>\n",
       "      <td>505</td>\n",
       "      <td>2020-11-13 00:00:00.00</td>\n",
       "      <td>2020-11-13 00:00:00.00</td>\n",
       "      <td>27177</td>\n",
       "      <td>Qpeqnqikg Ogfkecng</td>\n",
       "      <td>Eqpuwnvcvkqp</td>\n",
       "      <td>Eqpuwnvcvkqpu</td>\n",
       "      <td>Uqkpu</td>\n",
       "      <td>OEU</td>\n",
       "      <td>14998</td>\n",
       "      <td>UWKXK_EV</td>\n",
       "      <td>S4240509</td>\n",
       "    </tr>\n",
       "    <tr>\n",
       "      <th>49679</th>\n",
       "      <td>S403808521</td>\n",
       "      <td>505</td>\n",
       "      <td>2020-11-13 00:00:00.00</td>\n",
       "      <td>2020-11-13 00:00:00.00</td>\n",
       "      <td>27177</td>\n",
       "      <td>Qpeqnqikg Ogfkecng</td>\n",
       "      <td>Eqpuwnvcvkqp</td>\n",
       "      <td>Eqpuwnvcvkqpu</td>\n",
       "      <td>Uqkpu</td>\n",
       "      <td>ORE</td>\n",
       "      <td>14998</td>\n",
       "      <td>UWKXK_EV</td>\n",
       "      <td>S4240509</td>\n",
       "    </tr>\n",
       "    <tr>\n",
       "      <th>49680</th>\n",
       "      <td>S403808521</td>\n",
       "      <td>526</td>\n",
       "      <td>2020-12-04 00:00:00.00</td>\n",
       "      <td>2020-12-04 00:00:00.00</td>\n",
       "      <td>27096</td>\n",
       "      <td>Qpeqnqikg Ogfkecng</td>\n",
       "      <td>Vtckvgogpv</td>\n",
       "      <td>Codwncvqktg</td>\n",
       "      <td>Uqkpu</td>\n",
       "      <td>9032</td>\n",
       "      <td>14999</td>\n",
       "      <td>VTCKV</td>\n",
       "      <td>S4265485</td>\n",
       "    </tr>\n",
       "  </tbody>\n",
       "</table>\n",
       "<p>49681 rows × 13 columns</p>\n",
       "</div>"
      ],
      "text/plain": [
       "              NIP  J_Parcours           DateDebutActe             DateFinActe  \\\n",
       "0      S403800127           0  2019-01-02 00:00:00.00  2019-01-02 00:00:00.00   \n",
       "1      S403800127           0  2019-01-02 00:00:00.00  2019-01-02 00:00:00.00   \n",
       "2      S403800127           0  2019-01-02 00:00:00.00  2019-01-02 00:00:00.00   \n",
       "3      S403800127          37  2019-02-08 00:00:00.00  2019-02-08 00:00:00.00   \n",
       "4      S403800127          37  2019-02-08 00:00:00.00  2019-02-08 00:00:00.00   \n",
       "...           ...         ...                     ...                     ...   \n",
       "49676  S403808521         505  2020-11-13 00:00:00.00  2020-11-13 00:00:00.00   \n",
       "49677  S403808521         505  2020-11-13 00:00:00.00  2020-11-13 00:00:00.00   \n",
       "49678  S403808521         505  2020-11-13 00:00:00.00  2020-11-13 00:00:00.00   \n",
       "49679  S403808521         505  2020-11-13 00:00:00.00  2020-11-13 00:00:00.00   \n",
       "49680  S403808521         526  2020-12-04 00:00:00.00  2020-12-04 00:00:00.00   \n",
       "\n",
       "          UF             Service Phase_Parcours       Activite  \\\n",
       "0       3003  Oéfgekpg Pwenécktg     Fkcipquvke            VGR   \n",
       "1      25596  Oéfgekpg Pwenécktg     Fkcipquvke            VGR   \n",
       "2      25596  Oéfgekpg Pwenécktg     Fkcipquvke            VGR   \n",
       "3      27150       Tcfkqvjétcrkg   Eqpuwnvcvkqp  Eqpuwnvcvkqpu   \n",
       "4      27150       Tcfkqvjétcrkg   Eqpuwnvcvkqp  Eqpuwnvcvkqpu   \n",
       "...      ...                 ...            ...            ...   \n",
       "49676  27096  Qpeqnqikg Ogfkecng     Vtckvgogpv    Codwncvqktg   \n",
       "49677  27177  Qpeqnqikg Ogfkecng   Eqpuwnvcvkqp  Eqpuwnvcvkqpu   \n",
       "49678  27177  Qpeqnqikg Ogfkecng   Eqpuwnvcvkqp  Eqpuwnvcvkqpu   \n",
       "49679  27177  Qpeqnqikg Ogfkecng   Eqpuwnvcvkqp  Eqpuwnvcvkqpu   \n",
       "49680  27096  Qpeqnqikg Ogfkecng     Vtckvgogpv    Codwncvqktg   \n",
       "\n",
       "      Dimension_Parcours Ref_Acte  id_Sequence Type_Sequence   id_sejour  \n",
       "0                  Uqkpu   HVPVR2            2      KPKV_PGY  S320035725  \n",
       "1                  Uqkpu   HVPVR2            2      KPKV_PGY    S3543441  \n",
       "2                  Uqkpu  BBSN016            2      KPKV_PGY    S3543441  \n",
       "3                  Uqkpu       EU            2      KPKV_PGY    S3582663  \n",
       "4                  Uqkpu      OEU            2      KPKV_PGY    S3582663  \n",
       "...                  ...      ...          ...           ...         ...  \n",
       "49676              Uqkpu     9032        14999         VTCKV    S4240735  \n",
       "49677              Uqkpu       EU        14998      UWKXK_EV    S4240509  \n",
       "49678              Uqkpu      OEU        14998      UWKXK_EV    S4240509  \n",
       "49679              Uqkpu      ORE        14998      UWKXK_EV    S4240509  \n",
       "49680              Uqkpu     9032        14999         VTCKV    S4265485  \n",
       "\n",
       "[49681 rows x 13 columns]"
      ]
     },
     "execution_count": 5,
     "metadata": {},
     "output_type": "execute_result"
    }
   ],
   "source": [
    "# Define the filepath of the import csvfile\n",
    "file_path = r'..\\01_Datasets\\DL_Project_Dataset_Cluster2-243Patients_Encrypted.csv'\n",
    "\n",
    "#'..\\01_Datasets\\DL_Project_Dataset_Cluster2-243Patients_Encrypted.csv'\n",
    "#'Dataset_Simple_V0.csv'\n",
    "# Read the CSV file into a DataFrame\n",
    "df = pd.read_csv(file_path, sep=';')\n",
    "# Display the first few rows of the DataFrame\n",
    "df"
   ]
  },
  {
   "cell_type": "code",
   "execution_count": 6,
   "metadata": {},
   "outputs": [],
   "source": [
    "#MODELIZATION 5 : \n",
    "#NOEUDS : ACTES , DIFFERENTIATED BY PHASE PARCOURS.\n",
    "#RELATIONS : \n",
    "    # START : for the first acte\n",
    "    # ACTES REALIZED BY DAY\n",
    "\n",
    "#INITIALISATION   #CLEAR THE DATABASE\n",
    "query=\"MATCH (n) DETACH DELETE n\"\n",
    "myquery(query)\n",
    "\n",
    "Start=True\n",
    "output=True\n",
    "\n",
    "# Iterate over the rows of the DataFrame\n",
    "for index, row in df.iterrows():\n",
    "    # Extract values from the DataFrame\n",
    "    myActe = extract_data(row)\n",
    "\n",
    "    if Start:\n",
    "        #Create a new acte\n",
    "        new_acte=create_acte(myActe)\n",
    "        Active_Node=new_acte\n",
    "        \n",
    "        #Create a start node\n",
    "        startNode=create_Startnode(myActe)\n",
    "\n",
    "        #LINK THE START NODE TO THE ACTES\n",
    "        startNode.Carepath.connect(new_acte)\n",
    "        Start=False\n",
    "\n",
    "        #SET THE START NODE AS THE PREVIOUS NODE\n",
    "        Previous_Node=startNode\n",
    "\n",
    "    else:\n",
    "        if oldActe['NIP']!=myActe['NIP']: #Check if we are dealing with the same patient\n",
    "            #Create a new acte\n",
    "            new_acte=create_acte(myActe)\n",
    "            \n",
    "            Active_Node=new_acte\n",
    "            \n",
    "            #Create a start node\n",
    "            startNode=create_Startnode(myActe)\n",
    "\n",
    "            #LINK THE START NODE TO THE ACTES\n",
    "            startNode.Carepath.connect(new_acte)\n",
    "            #SET THE START NODE AS THE PREVIOUS NODE\n",
    "            Previous_Node=startNode\n",
    "\n",
    "        else:            \n",
    "            #Check if we have to change the previous node\n",
    "            if myActe['Jp']!=oldActe['Jp']:\n",
    "                #Create a new acte\n",
    "                new_acte=create_acte(myActe)\n",
    "\n",
    "                Previous_Node=Active_Node\n",
    "                Active_Node=new_acte\n",
    "\n",
    "                #LINK THE ACTE TO THE PREVIOUS ONE\n",
    "                Previous_Node.Carepath.connect(new_acte, {'Nb_Days': myActe['Jp']-Previous_Node.J_Parcours ,'NIP': myActe['NIP'] })\n",
    "\n",
    "            else:\n",
    "                #update the active node\n",
    "                new_acte=update_acte(Active_Node,myActe)\n",
    "                #Active_Nodes.append(new_acte)\n",
    "\n",
    "    #Store the acte in a variable oldActe\n",
    "    oldActe=myActe"
   ]
  },
  {
   "cell_type": "code",
   "execution_count": null,
   "metadata": {},
   "outputs": [],
   "source": [
    "#List exsiting graph in the database\n",
    "from neomodel import db\n",
    "query = \"\"\"\n",
    "CALL gds.graph.list()\n",
    "YIELD graphName, nodeCount, relationshipCount\n",
    "RETURN graphName, nodeCount, relationshipCount\n",
    "ORDER BY graphName ASC\n",
    "\"\"\"\n",
    "results = db.cypher_query(query)\n",
    "results\n",
    "\n",
    "#delete all existings graphs\n",
    "for graph in results[0]:\n",
    "    query = f\"\"\"\n",
    "            CALL gds.graph.drop('{graph[0]}') YIELD graphName;\n",
    "            \"\"\"\n",
    "    results = db.cypher_query(query)"
   ]
  },
  {
   "cell_type": "code",
   "execution_count": null,
   "metadata": {},
   "outputs": [],
   "source": [
    "#Node Embedings\n",
    "\n",
    "#Create an in-Memory graph:\n",
    "query = \"\"\"\n",
    "CALL gds.graph.project(\n",
    "  'Mygraph',\n",
    "  'Acte',\n",
    "  'FOLLOWED_BY',\n",
    "  {\n",
    "    relationshipProperties: 'Nb_Days'\n",
    "  }\n",
    ")\n",
    "\"\"\"\n",
    "results = db.cypher_query(query)\n"
   ]
  },
  {
   "cell_type": "code",
   "execution_count": null,
   "metadata": {},
   "outputs": [],
   "source": [
    "# If you need to specify a number of dimension :\n",
    "#CALL gds.node2vec.stream('Mygraph', {embeddingDimension: 2})\n",
    "#If you don't need to specify a number of dimension:\n",
    "#CALL gds.node2vec.stream('Mygraph')\n",
    "\n",
    "\n",
    "\n",
    "\n",
    "#run the node2vec algorithm:\n",
    "if embeddingNbDimensions==None:\n",
    "    query = \"\"\"\n",
    "    CALL gds.node2vec.stream('Mygraph')\n",
    "    YIELD nodeId, embedding\n",
    "    RETURN nodeId, embedding\n",
    "    \"\"\"\n",
    "else:\n",
    "    query = f\"\"\"\n",
    "    CALL gds.node2vec.stream('Mygraph', {{embeddingDimension: {embeddingNbDimensions}}})\n",
    "    YIELD nodeId, embedding\n",
    "    RETURN nodeId, embedding\n",
    "    \"\"\"\n",
    "\n",
    "from neomodel import db\n",
    "results = db.cypher_query(query)\n",
    "\n",
    "nb_ebemdings_dimensions=len(results[0][0][1])"
   ]
  },
  {
   "cell_type": "code",
   "execution_count": null,
   "metadata": {},
   "outputs": [],
   "source": [
    "#convert the result variable into a dict\n",
    "Dict_embedings = {}\n",
    "\n",
    "for entry in results[0]:\n",
    "    node_id = entry[0]\n",
    "    embedding = entry[1]\n",
    "    Dict_embedings[node_id] = {'Embedding': embedding}"
   ]
  },
  {
   "cell_type": "markdown",
   "metadata": {},
   "source": [
    "- Analysis of patient data"
   ]
  },
  {
   "cell_type": "code",
   "execution_count": null,
   "metadata": {},
   "outputs": [],
   "source": [
    "# Python cell added"
   ]
  },
  {
   "cell_type": "markdown",
   "metadata": {},
   "source": [
    "- Graphical modeling based on patient actions and pathways"
   ]
  },
  {
   "cell_type": "code",
   "execution_count": null,
   "metadata": {},
   "outputs": [],
   "source": [
    "# Python cell added"
   ]
  },
  {
   "cell_type": "markdown",
   "metadata": {},
   "source": [
    "# 3- Generation of POC to verify project feasibility."
   ]
  },
  {
   "cell_type": "code",
   "execution_count": null,
   "metadata": {},
   "outputs": [],
   "source": [
    "#GET THE LIST OF PATIENT IN THE DATABASE\n",
    "\n",
    "query=\"\"\"MATCH (n:Patient) RETURN n.NIP\"\"\"\n",
    "list_of_NIPs = db.cypher_query(query)"
   ]
  },
  {
   "cell_type": "code",
   "execution_count": null,
   "metadata": {},
   "outputs": [],
   "source": [
    "#GET THE LIST OF NODES_ID OF THE CAREPATH OF EACH PATIENT\n",
    "\n",
    "NIP_Carepath={}\n",
    "max_Carepath_lenght=0\n",
    "\n",
    "for i,nip in enumerate(list_of_NIPs[0],start=1):\n",
    "    \n",
    "    list_of_Nodes_ID=[]\n",
    "    Partial_Carepath=[]\n",
    "\n",
    "    query=f\"\"\"\n",
    "        MATCH (n:Acte)-[l:FOLLOWED_BY]->(m:Acte)\n",
    "        WHERE l.NIP='{nip[0]}'\n",
    "        RETURN id(n) AS NodeID, id(m) AS RelatedNodeID\n",
    "        ORDER BY NodeID asc\n",
    "        \"\"\"\n",
    "    list_of_Nodes_ID = db.cypher_query(query)\n",
    "\n",
    "    Carepath=[]\n",
    "    for j,relation in enumerate(list_of_Nodes_ID[0],start=0):\n",
    "        Carepath.append(relation[0])\n",
    "        lastnode=relation[1]\n",
    "\n",
    "        #Partial Carepath\n",
    "        Partial_Carepath.append(Carepath.copy()) \n",
    "\n",
    "    #construct the list\n",
    "    Carepath.append(lastnode)\n",
    "    #Partial Carepath\n",
    "    Partial_Carepath.append(Carepath.copy()) \n",
    "\n",
    "\n",
    "    #Add the carepath to the dict\n",
    "    NIP_Carepath[i]={'NIP' : nip[0], 'Carepath' : Carepath, 'SampleCareMatrix' : Partial_Carepath}\n",
    "    \n",
    "    #udpate the max Carepath lenght\n",
    "    if max_Carepath_lenght<len(Carepath) : max_Carepath_lenght=len(Carepath)\n",
    "\n",
    "#NIP_Carepath"
   ]
  },
  {
   "cell_type": "code",
   "execution_count": null,
   "metadata": {},
   "outputs": [],
   "source": [
    "#Construct the SampleMatrix to a determined dimension and fill zeros at the left when dimension isn't enought\n",
    "\n",
    "#determine the size of X (nb of columns)\n",
    "#Maximum lenght of carepath in the database\n",
    "nb_columns=max_Carepath_lenght\n",
    "\n",
    "#or a definite value\n",
    "#nb_columns=2\n",
    "\n",
    "#Croop the matrix to the number of column defined\n",
    "for key, value in NIP_Carepath.items():\n",
    "    value['SampleCareMatrix'] = [sample[-nb_columns:] for sample in value['SampleCareMatrix']]\n",
    "\n",
    "#Add zeros at the left when the size of the sampleCareMatrix is less than to the nb of column defined\n",
    "for key, value in NIP_Carepath.items():\n",
    "    for sample in value['SampleCareMatrix']:\n",
    "        while len(sample) < nb_columns:\n",
    "            sample.insert(0, 0)\n",
    "\n",
    "#NIP_Carepath"
   ]
  },
  {
   "cell_type": "code",
   "execution_count": null,
   "metadata": {},
   "outputs": [],
   "source": [
    "nb_dim=nb_ebemdings_dimensions\n",
    "\n",
    "#Create a SampleCareTensor from the SampleCareMatrix where NodeIds are replaced by their embedings\n",
    "for key, value in NIP_Carepath.items():\n",
    "    value['SampleCareTensor'] = []\n",
    "    for CM_Index,NodeIds_List in enumerate(value['SampleCareMatrix'],start=0):\n",
    "        my_Embedings=[]\n",
    "        for NodesIds_index,val_NodeId in enumerate(NodeIds_List,start=0):\n",
    "            if val_NodeId==0:\n",
    "                my_Embedings.append([0] * nb_dim)\n",
    "            else:\n",
    "                my_Embedings.append(Dict_embedings[val_NodeId]['Embedding'])\n",
    "        value['SampleCareTensor'].append(my_Embedings)\n",
    "        "
   ]
  },
  {
   "cell_type": "code",
   "execution_count": null,
   "metadata": {},
   "outputs": [],
   "source": [
    "import numpy as np\n",
    "\n",
    "#nb of columns is defined in a previous cell dedicated to #Construct the SampleMatrix\n",
    "\n",
    "G_CP_matrix = np.empty((0, nb_columns))  # Initialize an empty matrix\n",
    "CP_matrix = np.empty((0, nb_columns))  # Initialize an empty matrix\n",
    "\n",
    "for index in NIP_Carepath : \n",
    "    My_CP_Vector = NIP_Carepath[index]['SampleCareTensor']\n",
    "    CP_matrix = np.empty((0, nb_columns))  # Initialize an empty matrix\n",
    "\n",
    "    for CP_item in My_CP_Vector:\n",
    "        V = []\n",
    "        for embedding in CP_item:\n",
    "            V.append(np.transpose(embedding))\n",
    "\n",
    "        matrix = np.column_stack(V)\n",
    "        CP_matrix = np.vstack((CP_matrix, matrix))\n",
    "\n",
    "    G_CP_matrix = np.vstack((G_CP_matrix, CP_matrix))"
   ]
  },
  {
   "cell_type": "markdown",
   "metadata": {},
   "source": [
    "- Prediction with linear model using machine learning"
   ]
  },
  {
   "cell_type": "code",
   "execution_count": null,
   "metadata": {},
   "outputs": [
    {
     "name": "stdout",
     "output_type": "stream",
     "text": [
      "X_train shape: (194928, 118)\n",
      "X_test shape: (48732, 118)\n",
      "Y_train shape: (194928,)\n",
      "Y_test shape: (48732,)\n"
     ]
    }
   ],
   "source": [
    "# CREATE X, Y TRAIN AND TEST SAMPLES\n",
    "\n",
    "from sklearn.model_selection import train_test_split\n",
    "from sklearn.preprocessing import MinMaxScaler\n",
    "\n",
    "# Scale the features to have values between 0 and 1\n",
    "scaler = MinMaxScaler()\n",
    "G_scaled = scaler.fit_transform(G_CP_matrix)\n",
    "\n",
    "\n",
    "# G_CP_matrix contains features (X) and labels (Y)\n",
    "X = G_scaled[:, :-1]  # Extract all columns except the last one from G_CP_matrix \n",
    "Y = G_scaled[:, -1]   # Extract the last column from G_CP_matrix\n",
    "\n",
    "# Split data into training and testing sets for both features and labels\n",
    "X_train, X_test, Y_train, Y_test = train_test_split(X, Y, test_size=0.2, random_state=42)\n",
    "\n",
    "# Verify shapes of the datasets\n",
    "print(\"X_train shape:\", X_train.shape)\n",
    "print(\"X_test shape:\", X_test.shape)\n",
    "print(\"Y_train shape:\", Y_train.shape)\n",
    "print(\"Y_test shape:\", Y_test.shape)"
   ]
  },
  {
   "cell_type": "code",
   "execution_count": null,
   "metadata": {},
   "outputs": [
    {
     "name": "stdout",
     "output_type": "stream",
     "text": [
      "Linear Regression score : 0.9758\n",
      "Decision Tree score : 0.9674\n",
      "Random Forest score : 0.9694\n",
      "\n"
     ]
    }
   ],
   "source": [
    "from sklearn import feature_selection\n",
    "from sklearn.linear_model import LinearRegression\n",
    "from sklearn.tree import DecisionTreeRegressor, DecisionTreeClassifier, export_graphviz\n",
    "from sklearn.ensemble import RandomForestRegressor, GradientBoostingRegressor\n",
    "\n",
    "random_state = 42\n",
    "\n",
    "#LINEAR REGRESSION\n",
    "linreg = LinearRegression()\n",
    "linreg.fit(X_train, Y_train)\n",
    "linreg_pred = linreg.predict(X_test)\n",
    "linreg_score = round(linreg.score(X_test, Y_test), 4)\n",
    "\n",
    "#DECISION TREE\n",
    "tree = DecisionTreeRegressor(max_depth=5, random_state=random_state)\n",
    "tree.fit(X_train, Y_train)\n",
    "tree_pred = tree.predict(X_test)\n",
    "tree_score = round(tree.score(X_test, Y_test), 4)\n",
    "#print(f\"Linear Regression score : {linreg_score}\\nDecision Tree score : {tree_score}\")\n",
    "\n",
    "#RANDOMFOREST\n",
    "forest = RandomForestRegressor(max_depth=5, oob_score=True, random_state=random_state)\n",
    "forest.fit(X_train, Y_train)\n",
    "forest_pred = forest.predict(X_test)\n",
    "forest_score = round(forest.score(X_test, Y_test), 4)\n",
    "\n",
    "\n",
    "#print(f\"Linear Regression score : {linreg_score}\\nDecision Tree score : {tree_score}\")\n",
    "#print(f\"Random Forest score : {forest_score}\")\n",
    "\n",
    "#RETURN SCORES\n",
    "print(f\"Linear Regression score : {linreg_score}\\nDecision Tree score : {tree_score}\")\n",
    "print(f\"Random Forest score : {forest_score}\\n\")"
   ]
  },
  {
   "cell_type": "code",
   "execution_count": null,
   "metadata": {},
   "outputs": [
    {
     "name": "stdout",
     "output_type": "stream",
     "text": [
      "Linear Regression\n",
      "RMSE : 0.0135\n",
      "MSE : 0.0002\n",
      "MAE : 0.0077\n",
      "R2 : 0.9758\n",
      "RMSLE : 0.0084\n",
      "------------------------------\n",
      "Decision Tree\n",
      "RMSE : 0.0157\n",
      "MSE : 0.0002\n",
      "MAE : 0.0098\n",
      "R2 : 0.9674\n",
      "RMSLE : 0.0097\n",
      "------------------------------\n",
      "Random Forest\n",
      "RMSE : 0.0152\n",
      "MSE : 0.0002\n",
      "MAE : 0.0093\n",
      "R2 : 0.9694\n",
      "RMSLE : 0.0094\n",
      "------------------------------\n"
     ]
    }
   ],
   "source": [
    "from sklearn import metrics\n",
    "def regression_metrics(y_true, y_pred, form=':.4d'):\n",
    "    mse = metrics.mean_squared_error(y_true, y_pred)\n",
    "    rmse = np.sqrt(mse)\n",
    "    mae = metrics.mean_absolute_error(y_true, y_pred)\n",
    "    rmsle = np.sqrt(metrics.mean_squared_log_error(y_true, y_pred))\n",
    "    r2 = metrics.r2_score(y_true, y_pred)\n",
    "    print(f\"RMSE : {rmse:.4f}\\nMSE : {mse:.4f}\\nMAE : {mae:.4f}\\nR2 : {r2:.4f}\\nRMSLE : {rmsle:.4f}\")\n",
    "\n",
    "model_pred_dic = {'Linear Regression': linreg_pred,\n",
    "                'Decision Tree': tree_pred,\n",
    "                'Random Forest': forest_pred\n",
    "                }\n",
    "for model, preds in model_pred_dic.items():\n",
    "    print(model)\n",
    "    regression_metrics(Y_test, preds)\n",
    "    print('-'*30)"
   ]
  },
  {
   "cell_type": "markdown",
   "metadata": {},
   "source": [
    "- Result"
   ]
  },
  {
   "cell_type": "code",
   "execution_count": null,
   "metadata": {},
   "outputs": [],
   "source": [
    "# Python cell added"
   ]
  },
  {
   "cell_type": "markdown",
   "metadata": {},
   "source": [
    "- Evaluation"
   ]
  },
  {
   "cell_type": "code",
   "execution_count": null,
   "metadata": {},
   "outputs": [],
   "source": [
    "# Python cell added"
   ]
  },
  {
   "cell_type": "markdown",
   "metadata": {},
   "source": [
    "- Prediction with RNN models and optimization of results"
   ]
  },
  {
   "cell_type": "code",
   "execution_count": null,
   "metadata": {},
   "outputs": [],
   "source": [
    "#Module configuration\n",
    "#from py2neo import Graph #Database connection\n",
    "import neomodel\n",
    "import pandas as pd\n",
    "import datetime\n",
    "import numpy as np\n",
    "import torch\n",
    "import torch.nn as nn\n",
    "import random\n",
    "import os"
   ]
  },
  {
   "cell_type": "code",
   "execution_count": null,
   "metadata": {},
   "outputs": [],
   "source": [
    "#Config\n",
    "# Parameters :\n",
    "#Structuration of the acte in the graph database -> See directly in the cell\n",
    "#Nb of Embedings dimensions in Node2vec:\n",
    "#embeddingNbDimensions=3\n",
    "\n",
    "#Size of the Carepath extraction\n",
    "def size_of_CP_to_learn(Maxlength):\n",
    "    size = int(Maxlength*0.6)\n",
    "    #size = 10\n",
    "    return size\n",
    "\n",
    "n_hidden = 40\n",
    "lr=0.01\n",
    "criterion = nn.MSELoss()  # Suitable loss function\n",
    "\n",
    "#nn.NLLLoss()  nn.CrossEntropyLoss() nn.MSELoss()\n",
    "\n",
    "myFileName='DL_Project_Dataset_Sample_V5.csv'\n",
    "#'DataCP_Example/CP_Category_1.csv'\n",
    "#DL_Project_Dataset_Sample_V5.csv\n",
    "#'Dataset_Simple_V0.csv'\n",
    "#'DL_Project_Dataset_LongCP_Cluster1-772Patients.csv'\n",
    "renew_database=True"
   ]
  },
  {
   "cell_type": "code",
   "execution_count": null,
   "metadata": {},
   "outputs": [],
   "source": [
    "#add a zero acte at index zero\n",
    "Dict_embedings[0] = {'Embedding': np.zeros(nb_ebemdings_dimensions) }"
   ]
  },
  {
   "cell_type": "code",
   "execution_count": null,
   "metadata": {},
   "outputs": [
    {
     "name": "stdout",
     "output_type": "stream",
     "text": [
      "Dict_embedings contains 12183 items with 20 embedings dimensions each\n"
     ]
    }
   ],
   "source": [
    "print(f'Dict_embedings contains {len(Dict_embedings)} items with {nb_ebemdings_dimensions} embedings dimensions each' )"
   ]
  },
  {
   "cell_type": "code",
   "execution_count": null,
   "metadata": {},
   "outputs": [],
   "source": [
    "#GET THE LIST OF NODES_ID OF THE CAREPATH OF EACH PATIENT\n",
    "\n",
    "NIP_Carepath={}\n",
    "max_Carepath_lenght=0\n",
    "\n",
    "for i,nip in enumerate(list_of_NIPs[0],start=1):\n",
    "    \n",
    "    list_of_Nodes_ID=[]\n",
    "    Partial_Carepath=[]\n",
    "\n",
    "    query=f\"\"\"\n",
    "        MATCH (n:Acte)-[l:FOLLOWED_BY]->(m:Acte)-[ll:FOLLOWED_BY]->(p:Acte)\n",
    "        WHERE  l.NIP='{nip[0]}' AND ll.NIP='{nip[0]}'\n",
    "        RETURN id(n) AS NodeID, id(m) AS RelatedNodeID , min(l.Next_Acte_from_JP) AS fromJP\n",
    "        ORDER BY fromJP, NodeID\n",
    "        \"\"\"\n",
    "    list_of_Nodes_ID = db.cypher_query(query)\n",
    "\n",
    "    Carepath=[]\n",
    "    for j,relation in enumerate(list_of_Nodes_ID[0],start=0):\n",
    "        Carepath.append(relation[0])\n",
    "        lastnode=relation[1]\n",
    "\n",
    "        #Partial Carepath\n",
    "        if len(Carepath)>1 :\n",
    "            Partial_Carepath.append(Carepath.copy())\n",
    "\n",
    "    #construct the list\n",
    "    Carepath.append(lastnode)\n",
    "    \n",
    "    #Partial Carepath\n",
    "    Partial_Carepath.append(Carepath.copy())\n",
    "\n",
    "\n",
    "    #Add the carepath to the dict\n",
    "    NIP_Carepath[i]={'NIP' : nip[0], 'Carepath' : Carepath, 'SampleCareMatrix' : Partial_Carepath}\n",
    "    \n",
    "    #udpate the max Carepath lenght\n",
    "    if max_Carepath_lenght<len(Carepath) : max_Carepath_lenght=len(Carepath)\n",
    "\n",
    "#NIP_Carepath"
   ]
  },
  {
   "cell_type": "code",
   "execution_count": null,
   "metadata": {},
   "outputs": [],
   "source": [
    "#Construct the SampleMatrix to a determined dimension and fill zeros at the left when dimension isn't enought\n",
    "\n",
    "#determine the size of X (nb of columns)\n",
    "#Maximum lenght of carepath in the database\n",
    "nb_columns=size_of_CP_to_learn(max_Carepath_lenght)\n",
    "#nb_columns=2\n",
    "\n",
    "#or a definite value\n",
    "#nb_columns=2\n",
    "\n",
    "#Croop the matrix to the number of column defined\n",
    "for key, value in NIP_Carepath.items():\n",
    "    value['SampleCareMatrix'] = [sample[-nb_columns:] for sample in value['SampleCareMatrix']]\n",
    "\n",
    "#Add zeros at the left when the size of the sampleCareMatrix is less than to the nb of column defined\n",
    "for key, value in NIP_Carepath.items():\n",
    "    for sample in value['SampleCareMatrix']:\n",
    "        while len(sample) < nb_columns:\n",
    "            sample.insert(0, 0)\n",
    "\n",
    "#NIP_Carepath"
   ]
  },
  {
   "cell_type": "code",
   "execution_count": null,
   "metadata": {},
   "outputs": [],
   "source": [
    "#Let's construct a function Vec_to_Node in order to construct the prevision of carepath.\n",
    "\n",
    "#function Vec_2_node\n",
    "def Vec_2_node(query_vector, embeddings):\n",
    "    closest_node_id = None\n",
    "    closest_distance = float('inf')\n",
    "    \n",
    "    for node_id, node_embedding in embeddings.items():\n",
    "        embedding_vector = node_embedding['Embedding']\n",
    "\n",
    "        query_array = np.array(query_vector)\n",
    "        embedding_array = np.array(embedding_vector)\n",
    "\n",
    "        distance = np.linalg.norm(query_array - embedding_array)  # Euclidean distance\n",
    "        if distance < closest_distance:\n",
    "            closest_distance = distance\n",
    "            closest_node_id = node_id\n",
    "            \n",
    "    return closest_node_id"
   ]
  },
  {
   "cell_type": "code",
   "execution_count": null,
   "metadata": {},
   "outputs": [],
   "source": [
    "nb_NIP=len(NIP_Carepath)\n",
    "my_NIP_indexes_list = [i for i in range(1, nb_NIP+1)]"
   ]
  },
  {
   "cell_type": "code",
   "execution_count": null,
   "metadata": {},
   "outputs": [
    {
     "name": "stdout",
     "output_type": "stream",
     "text": [
      "ordered\n",
      "[1, 2, 3, 4, 5, 6, 7, 8, 9, 10, 11, 12, 13, 14, 15, 16, 17, 18, 19, 20, 21, 22, 23, 24, 25, 26, 27, 28, 29, 30, 31, 32, 33, 34, 35, 36, 37, 38, 39, 40, 41, 42, 43, 44, 45, 46, 47, 48, 49, 50, 51, 52, 53, 54, 55, 56, 57, 58, 59, 60, 61, 62, 63, 64, 65, 66, 67, 68, 69, 70, 71, 72, 73, 74, 75, 76, 77, 78, 79, 80, 81, 82, 83, 84, 85, 86, 87, 88, 89, 90, 91, 92, 93, 94, 95, 96, 97, 98, 99, 100, 101, 102, 103, 104, 105, 106, 107, 108, 109, 110, 111, 112, 113, 114, 115, 116, 117, 118, 119, 120, 121, 122, 123, 124, 125, 126, 127, 128, 129, 130, 131, 132, 133, 134, 135, 136, 137, 138, 139, 140, 141, 142, 143, 144, 145, 146, 147, 148, 149, 150, 151, 152, 153, 154, 155, 156, 157, 158, 159, 160, 161, 162, 163, 164, 165, 166, 167, 168, 169, 170, 171, 172, 173, 174, 175, 176, 177, 178, 179, 180, 181, 182]\n",
      "shuffled\n",
      "[107, 19, 16, 7, 113, 84, 73, 92, 33, 145, 114, 86, 14, 85, 45, 123, 143, 140, 180, 121, 37, 139, 32, 141, 110, 178, 69, 5, 161, 34, 48, 59, 61, 155, 126, 30, 46, 150, 24, 138, 94, 62, 31, 35, 172, 17, 116, 88, 58, 130, 128, 168, 108, 90, 125, 104, 106, 111, 163, 82, 164, 52, 40, 28, 57, 119, 68, 81, 41, 165, 102, 27, 25, 131, 120, 1, 144, 103, 53, 87, 148, 95, 174, 80, 136, 159, 169, 89, 38, 2, 158, 153, 67, 133, 44, 127, 23, 42, 64, 15, 72, 4, 79, 77, 115, 71, 22, 36, 93, 135, 75, 76, 134, 160, 167, 66, 182, 11, 70, 105, 162, 176, 122, 43, 151, 100, 6, 177, 47, 60, 18, 20, 109, 13, 12, 173, 78, 97, 3, 171, 112, 170, 179, 8, 149, 101, 63, 39, 137, 157, 132, 129, 142, 96, 50, 91, 156, 154, 146, 124, 74, 99, 29, 56, 83, 175, 166, 117, 55, 147, 65, 9, 152, 51, 181, 98, 54, 10, 26, 49, 21, 118]\n",
      "training\n",
      "[107, 19, 16, 7, 113, 84, 73, 92, 33, 145, 114, 86, 14, 85, 45, 123, 143, 140, 180, 121, 37, 139, 32, 141, 110, 178, 69, 5, 161, 34, 48, 59, 61, 155, 126, 30, 46, 150, 24, 138, 94, 62, 31, 35, 172, 17, 116, 88, 58, 130, 128, 168, 108, 90, 125, 104, 106, 111, 163, 82, 164, 52, 40, 28, 57, 119, 68, 81, 41, 165, 102, 27, 25, 131, 120, 1, 144, 103, 53, 87, 148, 95, 174, 80, 136, 159, 169, 89, 38, 2, 158]\n",
      "test\n",
      "[153, 67, 133, 44, 127, 23, 42, 64, 15, 72, 4, 79, 77, 115, 71, 22, 36, 93, 135, 75, 76, 134, 160, 167, 66, 182, 11, 70, 105, 162, 176, 122, 43, 151, 100, 6, 177, 47, 60, 18, 20, 109, 13, 12, 173, 78, 97, 3, 171, 112, 170, 179, 8, 149, 101, 63, 39, 137, 157, 132, 129, 142, 96, 50, 91, 156, 154, 146, 124, 74, 99, 29, 56, 83, 175, 166, 117, 55, 147, 65, 9, 152, 51, 181, 98, 54, 10, 26, 49, 21, 118]\n"
     ]
    }
   ],
   "source": [
    "# PREPARE X AND Y SETS\n",
    "split = 0.5\n",
    "\n",
    "training = {}\n",
    "testing = {}\n",
    "\n",
    "print('ordered')\n",
    "print(my_NIP_indexes_list)\n",
    "random.shuffle(my_NIP_indexes_list)  # Shuffle the Carepath list\n",
    "print('shuffled')\n",
    "print(my_NIP_indexes_list)\n",
    "\n",
    "split_index = int(len(my_NIP_indexes_list) * split)\n",
    "\n",
    "training_ids = my_NIP_indexes_list[:split_index]\n",
    "testing_ids = my_NIP_indexes_list[split_index:]\n",
    "\n",
    "print('training')\n",
    "print(training_ids)\n",
    "\n",
    "print('test')\n",
    "print(testing_ids)"
   ]
  },
  {
   "cell_type": "code",
   "execution_count": null,
   "metadata": {},
   "outputs": [],
   "source": [
    "def carepath_to_tensor(carepath):\n",
    "    \"\"\"Convert a name into a matrix where each row one-hot encodes a character.\"\"\"\n",
    "    tensor = torch.zeros(len(carepath), nb_ebemdings_dimensions)\n",
    "    for idx, acte in enumerate(carepath):\n",
    "        tensor[idx] = torch.tensor(Dict_embedings[acte]['Embedding'])\n",
    "    return tensor"
   ]
  },
  {
   "cell_type": "code",
   "execution_count": null,
   "metadata": {},
   "outputs": [],
   "source": [
    "def ids_to_tensor(list_NIP_ids):\n",
    "    \n",
    "    Training_NIP_tensors=[]\n",
    "    \n",
    "    for id_NIP in list_NIP_ids:\n",
    "        \n",
    "        Training_tensors=[]\n",
    "        for carepathsample_index in range(len(NIP_Carepath[id_NIP]['SampleCareMatrix'])):\n",
    "            #print(NIP_Carepath[id_NIP]['SampleCareMatrix'][carepathsample_index])\n",
    "            #print('Associated Tensor')\n",
    "            tensor=carepath_to_tensor(NIP_Carepath[id_NIP]['SampleCareMatrix'][carepathsample_index])\n",
    "            #print(tensor)\n",
    "            Training_tensors.append(tensor)\n",
    "\n",
    "    # Concatenate the tensors along dimension 0\n",
    "    #Training_tensor = torch.stack(Training_tensors, dim=0)\n",
    "        Training_NIP_tensors.append(Training_tensors)\n",
    "\n",
    "    return Training_NIP_tensors"
   ]
  },
  {
   "cell_type": "code",
   "execution_count": null,
   "metadata": {},
   "outputs": [],
   "source": [
    "Training   = ids_to_tensor(training_ids)\n",
    "Testing     = ids_to_tensor(testing_ids)"
   ]
  },
  {
   "cell_type": "code",
   "execution_count": null,
   "metadata": {},
   "outputs": [],
   "source": [
    "#From Training/Test Tensor to Input/Output\n",
    "\n",
    "def TrainTest_to_InputOutput(CP_Tensor):\n",
    "    \n",
    "    # Number of elements per new tensor\n",
    "    elements_per_tensor = len(CP_Tensor[0])\n",
    "\n",
    "    # Splitting each tensor\n",
    "    input_tensor = []\n",
    "    output_tensor=[]\n",
    "    for tensor in CP_Tensor:\n",
    "        input_tensor.append(tensor[0:elements_per_tensor-1])\n",
    "        output_tensor.append(tensor[1:elements_per_tensor])\n",
    "    \n",
    "    #Flatening input and output tensor\n",
    "    Flat_input_tensor=[tensor.flatten() for tensor in input_tensor]\n",
    "    Flat_output_tensor=[tensor.flatten() for tensor in output_tensor]\n",
    "\n",
    "    return Flat_input_tensor, Flat_output_tensor"
   ]
  },
  {
   "cell_type": "markdown",
   "metadata": {},
   "source": [
    "- Configuration of the GPU"
   ]
  },
  {
   "cell_type": "code",
   "execution_count": null,
   "metadata": {},
   "outputs": [
    {
     "name": "stdout",
     "output_type": "stream",
     "text": [
      "GPU is available\n"
     ]
    }
   ],
   "source": [
    "# torch.cuda.is_available() checks and returns a Boolean True if a GPU is available, else it'll return False\n",
    "is_cuda = torch.cuda.is_available()\n",
    "\n",
    "# If we have a GPU available, we'll set our device to GPU. We'll use this device variable later in our code.\n",
    "if is_cuda:\n",
    "    device = torch.device(\"cuda\")\n",
    "    print(\"GPU is available\")\n",
    "else:\n",
    "    device = torch.device(\"cpu\")\n",
    "    print(\"GPU not available, CPU used\")"
   ]
  },
  {
   "cell_type": "markdown",
   "metadata": {},
   "source": [
    "- RNN Parameters"
   ]
  },
  {
   "cell_type": "code",
   "execution_count": null,
   "metadata": {},
   "outputs": [
    {
     "name": "stdout",
     "output_type": "stream",
     "text": [
      "Input size = 1380 , Hidden size = 120 , Output size = 1380\n"
     ]
    }
   ],
   "source": [
    "#RNN Parameters :\n",
    "inputsize  =  (size_of_CP_to_learn(max_Carepath_lenght)-1) * nb_ebemdings_dimensions\n",
    "outputsize = (size_of_CP_to_learn(max_Carepath_lenght)-1) * nb_ebemdings_dimensions\n",
    "\n",
    "print(f'Input size = {inputsize} , Hidden size = {n_hidden} , Output size = {outputsize}')"
   ]
  },
  {
   "cell_type": "code",
   "execution_count": null,
   "metadata": {},
   "outputs": [],
   "source": [
    "class RNN(nn.Module):\n",
    "    \"Simple RNN architecture that explicitly accepts its hidden state.\"\n",
    "    def __init__(self, input_size, hidden_size, output_size):\n",
    "        super().__init__()\n",
    "\n",
    "        self.hidden_size = hidden_size\n",
    "\n",
    "        combined_size = input_size + hidden_size\n",
    "        self.i2h = nn.Linear(combined_size, hidden_size)\n",
    "        self.i2o = nn.Linear(combined_size, output_size)\n",
    "        #self.softmax = nn.LogSoftmax(dim=0)\n",
    "\n",
    "    def forward(self, input, hidden):\n",
    "        \"Forward pass for a given input tensor and hidden state.\"\n",
    "        combined = torch.cat((input, hidden))\n",
    "        hidden = self.i2h(combined)\n",
    "        output = self.i2o(combined)\n",
    "        #output = self.softmax(output)\n",
    "        return output, hidden\n",
    "\n",
    "    def init_hidden(self):\n",
    "        \"Create a new hidden state for a new name.\"\n",
    "        return torch.zeros(self.hidden_size)"
   ]
  },
  {
   "cell_type": "code",
   "execution_count": null,
   "metadata": {},
   "outputs": [],
   "source": [
    "def train(rnn,tensor,criterion,optimizer, lr):\n",
    "    hidden = rnn.init_hidden()\n",
    "    rnn.zero_grad() #reset gradient computations.\n",
    "\n",
    "    indexes=len(tensor)\n",
    "    Input_tensor,Target_tensor = TrainTest_to_InputOutput(tensor)\n",
    "    loss=0\n",
    "\n",
    "    for i in range(indexes):\n",
    "        #print(f'i = {i}')\n",
    "        #print(f'INPUT = {Input_tensor[i]}')\n",
    "        #print(f'HIDDEN = {hidden}')\n",
    "        #print(f'OUTPUT = {Target_tensor[i]}')\n",
    "        #print('end of itteration')\n",
    "\n",
    "        output,hidden = rnn(Input_tensor[i],hidden)\n",
    "        l= criterion(output,Target_tensor[i])\n",
    "        loss += l\n",
    "\n",
    "    loss.backward() #computes gradients\n",
    "\n",
    "    # Calculate accuracy\n",
    "\n",
    "    # Tweak the network's parameters slightly! (aka, teach the network!)\n",
    "    #for p in rnn.parameters():\n",
    "    #    p.data.add_(p.grad.data, alpha=-lr)\n",
    "    optimizer.step()  # Update parameters based on gradients\n",
    "\n",
    "    return output, loss #, accuracy"
   ]
  },
  {
   "cell_type": "code",
   "execution_count": null,
   "metadata": {},
   "outputs": [],
   "source": [
    "# Make category, input, and target tensors from a random category, line pair\n",
    "def randomTrainingExample():\n",
    "    it=random.randint(0,len(Training)-1)\n",
    "    return Training[it]"
   ]
  },
  {
   "cell_type": "code",
   "execution_count": null,
   "metadata": {},
   "outputs": [
    {
     "name": "stdout",
     "output_type": "stream",
     "text": [
      "0.1% (0m 0.24s) // Loss = 4.4328 // Itteration : 1 / 1000\n",
      "2.2% (0m 3.37s) // Loss = 9138756124672.0000 // Itteration : 22 / 1000\n",
      "4.3% (0m 6.53s) // Loss = nan // Itteration : 43 / 1000\n",
      "6.4% (0m 9.78s) // Loss = nan // Itteration : 64 / 1000\n",
      "8.5% (0m 12.81s) // Loss = nan // Itteration : 85 / 1000\n",
      "10.6% (0m 15.70s) // Loss = nan // Itteration : 106 / 1000\n",
      "12.7% (0m 18.80s) // Loss = nan // Itteration : 127 / 1000\n",
      "14.8% (0m 22.04s) // Loss = nan // Itteration : 148 / 1000\n",
      "16.9% (0m 25.40s) // Loss = nan // Itteration : 169 / 1000\n",
      "19.0% (0m 28.43s) // Loss = nan // Itteration : 190 / 1000\n",
      "21.1% (0m 31.34s) // Loss = nan // Itteration : 211 / 1000\n",
      "23.2% (0m 34.90s) // Loss = nan // Itteration : 232 / 1000\n",
      "25.3% (0m 40.21s) // Loss = nan // Itteration : 253 / 1000\n",
      "27.4% (0m 44.43s) // Loss = nan // Itteration : 274 / 1000\n",
      "29.5% (0m 47.40s) // Loss = nan // Itteration : 295 / 1000\n",
      "31.6% (0m 50.32s) // Loss = nan // Itteration : 316 / 1000\n",
      "33.7% (0m 53.32s) // Loss = nan // Itteration : 337 / 1000\n",
      "35.8% (0m 56.75s) // Loss = nan // Itteration : 358 / 1000\n",
      "37.9% (1m 0.11s) // Loss = nan // Itteration : 379 / 1000\n",
      "40.0% (1m 3.17s) // Loss = nan // Itteration : 400 / 1000\n",
      "42.1% (1m 5.81s) // Loss = nan // Itteration : 421 / 1000\n",
      "44.2% (1m 8.95s) // Loss = nan // Itteration : 442 / 1000\n",
      "46.3% (1m 12.21s) // Loss = nan // Itteration : 463 / 1000\n",
      "48.4% (1m 15.73s) // Loss = nan // Itteration : 484 / 1000\n",
      "50.5% (1m 18.81s) // Loss = nan // Itteration : 505 / 1000\n",
      "52.6% (1m 21.95s) // Loss = nan // Itteration : 526 / 1000\n",
      "54.7% (1m 25.02s) // Loss = nan // Itteration : 547 / 1000\n",
      "56.8% (1m 28.36s) // Loss = nan // Itteration : 568 / 1000\n",
      "58.9% (1m 31.84s) // Loss = nan // Itteration : 589 / 1000\n",
      "61.0% (1m 35.22s) // Loss = nan // Itteration : 610 / 1000\n",
      "63.1% (1m 38.43s) // Loss = nan // Itteration : 631 / 1000\n",
      "65.2% (1m 41.32s) // Loss = nan // Itteration : 652 / 1000\n",
      "67.3% (1m 44.57s) // Loss = nan // Itteration : 673 / 1000\n",
      "69.4% (1m 48.02s) // Loss = nan // Itteration : 694 / 1000\n",
      "71.5% (1m 51.07s) // Loss = nan // Itteration : 715 / 1000\n",
      "73.6% (1m 54.21s) // Loss = nan // Itteration : 736 / 1000\n",
      "75.7% (1m 57.59s) // Loss = nan // Itteration : 757 / 1000\n",
      "77.8% (2m 0.67s) // Loss = nan // Itteration : 778 / 1000\n",
      "79.9% (2m 4.18s) // Loss = nan // Itteration : 799 / 1000\n",
      "82.0% (2m 7.54s) // Loss = nan // Itteration : 820 / 1000\n",
      "84.1% (2m 11.06s) // Loss = nan // Itteration : 841 / 1000\n",
      "86.2% (2m 14.20s) // Loss = nan // Itteration : 862 / 1000\n",
      "88.3% (2m 17.81s) // Loss = nan // Itteration : 883 / 1000\n",
      "90.4% (2m 21.99s) // Loss = nan // Itteration : 904 / 1000\n",
      "92.5% (2m 25.07s) // Loss = nan // Itteration : 925 / 1000\n",
      "94.6% (2m 28.52s) // Loss = nan // Itteration : 946 / 1000\n",
      "96.7% (2m 31.69s) // Loss = nan // Itteration : 967 / 1000\n",
      "98.8% (2m 34.98s) // Loss = nan // Itteration : 988 / 1000\n"
     ]
    }
   ],
   "source": [
    "import time\n",
    "\n",
    "\n",
    "Nb_batch_of_CP = len(Training)\n",
    "#n_iters = Nb_batch_of_CP\n",
    "n_iters = 1000\n",
    "PRINT_EVERY = int(n_iters/50)+1\n",
    "LOG_EVERY = int(n_iters/50)+1\n",
    "\n",
    "# Keep track of losses for plotting.\n",
    "current_loss = 0\n",
    "all_losses = []\n",
    "\n",
    "\n",
    "def time_since(since):\n",
    "    \"\"\"Return a pretty string with time elapsed.\"\"\"\n",
    "    now = time.time()\n",
    "    s = now - since\n",
    "    m, s = divmod(s, 60)\n",
    "    return f\"{int(m)}m {s:.2f}s\"\n",
    "\n",
    "rnn = RNN(inputsize, n_hidden, outputsize)\n",
    "optimizer = torch.optim.Adam(rnn.parameters(), lr=0.01)\n",
    "\n",
    "#hidden = rnn.init_hidden()\n",
    "start = time.time()\n",
    "\n",
    "for it in range(0, n_iters):\n",
    "    #print(f'batch n° {it}')\n",
    "    output, loss = train(rnn, randomTrainingExample(),criterion,optimizer,lr)\n",
    "    #output, loss = train(rnn, Training[it],criterion,optimizer,lr)\n",
    "    current_loss += loss\n",
    "\n",
    "    if it % LOG_EVERY == 0:\n",
    "\n",
    "        # Print current progress.\n",
    "        avg_loss = current_loss / LOG_EVERY\n",
    "        print(f\"{round(100 * (it+1) / n_iters,3)}% ({time_since(start)}) // Loss = {avg_loss:.4f} // Itteration : {it+1} / {n_iters}\")\n",
    "        \n",
    "        # Save average loss for plotting.\n",
    "        all_losses.append(avg_loss)\n",
    "        current_loss = 0"
   ]
  },
  {
   "cell_type": "code",
   "execution_count": null,
   "metadata": {},
   "outputs": [],
   "source": [
    "# Save the trained model\n",
    "torch.save(rnn.state_dict(), 'trained_model.pth')"
   ]
  },
  {
   "cell_type": "markdown",
   "metadata": {},
   "source": [
    "- Result"
   ]
  },
  {
   "cell_type": "code",
   "execution_count": null,
   "metadata": {},
   "outputs": [
    {
     "data": {
      "text/plain": [
       "[<matplotlib.lines.Line2D at 0x200ba312490>]"
      ]
     },
     "execution_count": 43,
     "metadata": {},
     "output_type": "execute_result"
    },
    {
     "data": {
      "image/png": "[encoded data removed]",
      "text/plain": [
       "<Figure size 640x480 with 1 Axes>"
      ]
     },
     "metadata": {},
     "output_type": "display_data"
    }
   ],
   "source": [
    "# Convert each tensor to a scalar\n",
    "loss_list = [tensor.item() for tensor in all_losses]\n",
    "\n",
    "import matplotlib.pyplot as plt\n",
    "\n",
    "plt.figure()\n",
    "plt.plot(loss_list)"
   ]
  },
  {
   "cell_type": "markdown",
   "metadata": {},
   "source": [
    "- Evaluation"
   ]
  },
  {
   "cell_type": "code",
   "execution_count": null,
   "metadata": {},
   "outputs": [],
   "source": [
    "# Python cell added"
   ]
  },
  {
   "cell_type": "markdown",
   "metadata": {},
   "source": [
    "- Prediction"
   ]
  },
  {
   "cell_type": "code",
   "execution_count": null,
   "metadata": {},
   "outputs": [],
   "source": [
    "def Get_InputTensor_from_idNode(idNode):\n",
    "\n",
    "    InputTensorDim = embeddingNbDimensions * (size_of_CP_to_learn(max_Carepath_lenght)-2)\n",
    "\n",
    "    # Create an empty flat tensor of size (15,)\n",
    "    Input_tensor = torch.zeros(InputTensorDim )\n",
    "\n",
    "    #Define the star letter\n",
    "    start_letter=carepath_to_tensor([idNode])\n",
    "    start_letter=[tensor.flatten() for tensor in start_letter][0]\n",
    "\n",
    "    # Append the values from star_letter tensor to the Input_tensor\n",
    "    Input_tensor = torch.cat((Input_tensor, start_letter), dim=0)\n",
    "\n",
    "    return Input_tensor"
   ]
  },
  {
   "cell_type": "code",
   "execution_count": null,
   "metadata": {},
   "outputs": [],
   "source": [
    "#PREDICT STEP\n",
    "max_length = 50\n",
    "\n",
    "# Sample from a category and starting letter\n",
    "def sample(start_id):\n",
    "    Predicted_Carepath=[start_id]\n",
    "    with torch.no_grad():  # no need to track history in sampling\n",
    "        input = Get_InputTensor_from_idNode(start_id)\n",
    "        hidden = rnn.init_hidden()\n",
    "\n",
    "        for i in range(max_length):\n",
    "            output, hidden = rnn(input, hidden)\n",
    "            Next_Acte=output[-3:].tolist()\n",
    "            #Get the last Node from output \n",
    "            closest_node_id = Vec_2_node(Next_Acte, Dict_embedings)\n",
    "            Predicted_Carepath.append(closest_node_id)\n",
    "            if closest_node_id==End_acteid:\n",
    "                break\n",
    "            input=output\n",
    "\n",
    "        return Predicted_Carepath"
   ]
  },
  {
   "cell_type": "code",
   "execution_count": null,
   "metadata": {},
   "outputs": [
    {
     "ename": "ValueError",
     "evalue": "operands could not be broadcast together with shapes (3,) (20,) ",
     "output_type": "error",
     "traceback": [
      "\u001b[1;31m---------------------------------------------------------------------------\u001b[0m",
      "\u001b[1;31mValueError\u001b[0m                                Traceback (most recent call last)",
      "Cell \u001b[1;32mIn[47], line 1\u001b[0m\n\u001b[1;32m----> 1\u001b[0m \u001b[43msample\u001b[49m\u001b[43m(\u001b[49m\u001b[38;5;241;43m50\u001b[39;49m\u001b[43m)\u001b[49m\n",
      "Cell \u001b[1;32mIn[46], line 15\u001b[0m, in \u001b[0;36msample\u001b[1;34m(start_id)\u001b[0m\n\u001b[0;32m     13\u001b[0m Next_Acte\u001b[38;5;241m=\u001b[39moutput[\u001b[38;5;241m-\u001b[39m\u001b[38;5;241m3\u001b[39m:]\u001b[38;5;241m.\u001b[39mtolist()\n\u001b[0;32m     14\u001b[0m \u001b[38;5;66;03m#Get the last Node from output \u001b[39;00m\n\u001b[1;32m---> 15\u001b[0m closest_node_id \u001b[38;5;241m=\u001b[39m \u001b[43mVec_2_node\u001b[49m\u001b[43m(\u001b[49m\u001b[43mNext_Acte\u001b[49m\u001b[43m,\u001b[49m\u001b[43m \u001b[49m\u001b[43mDict_embedings\u001b[49m\u001b[43m)\u001b[49m\n\u001b[0;32m     16\u001b[0m Predicted_Carepath\u001b[38;5;241m.\u001b[39mappend(closest_node_id)\n\u001b[0;32m     17\u001b[0m \u001b[38;5;28;01mif\u001b[39;00m closest_node_id\u001b[38;5;241m==\u001b[39mEnd_acteid:\n",
      "Cell \u001b[1;32mIn[29], line 14\u001b[0m, in \u001b[0;36mVec_2_node\u001b[1;34m(query_vector, embeddings)\u001b[0m\n\u001b[0;32m     11\u001b[0m query_array \u001b[38;5;241m=\u001b[39m np\u001b[38;5;241m.\u001b[39marray(query_vector)\n\u001b[0;32m     12\u001b[0m embedding_array \u001b[38;5;241m=\u001b[39m np\u001b[38;5;241m.\u001b[39marray(embedding_vector)\n\u001b[1;32m---> 14\u001b[0m distance \u001b[38;5;241m=\u001b[39m np\u001b[38;5;241m.\u001b[39mlinalg\u001b[38;5;241m.\u001b[39mnorm(\u001b[43mquery_array\u001b[49m\u001b[43m \u001b[49m\u001b[38;5;241;43m-\u001b[39;49m\u001b[43m \u001b[49m\u001b[43membedding_array\u001b[49m)  \u001b[38;5;66;03m# Euclidean distance\u001b[39;00m\n\u001b[0;32m     15\u001b[0m \u001b[38;5;28;01mif\u001b[39;00m distance \u001b[38;5;241m<\u001b[39m closest_distance:\n\u001b[0;32m     16\u001b[0m     closest_distance \u001b[38;5;241m=\u001b[39m distance\n",
      "\u001b[1;31mValueError\u001b[0m: operands could not be broadcast together with shapes (3,) (20,) "
     ]
    }
   ],
   "source": [
    "sample(50)"
   ]
  },
  {
   "cell_type": "markdown",
   "metadata": {},
   "source": [
    "# 4- General Conclusion"
   ]
  }
 ],
 "metadata": {
  "kernelspec": {
   "display_name": "DL_Project2",
   "language": "python",
   "name": "python3"
  },
  "language_info": {
   "codemirror_mode": {
    "name": "ipython",
    "version": 3
   },
   "file_extension": ".py",
   "mimetype": "text/x-python",
   "name": "python",
   "nbconvert_exporter": "python",
   "pygments_lexer": "ipython3",
   "version": "3.9.0"
  }
 },
 "nbformat": 4,
 "nbformat_minor": 2
}
