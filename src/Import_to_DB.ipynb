{
 "cells": [
  {
   "cell_type": "code",
   "execution_count": 1,
   "metadata": {},
   "outputs": [],
   "source": [
    "#Module configuration\n",
    "from py2neo import Graph #Database connection\n",
    "import pandas as pd  "
   ]
  },
  {
   "cell_type": "code",
   "execution_count": 2,
   "metadata": {},
   "outputs": [],
   "source": [
    "\n",
    "neo4jServerAdress = \"172.27.19.211\"\n",
    "neo4jConnectionPort = 7687  #Connection to server bolt\n",
    "\n",
    "neo4jConnAddress=\"//\" + neo4jServerAdress + \":\" + str(neo4jConnectionPort)\n",
    "user= \"neo4j\"\n",
    "password= \"Mypassword%2023\"\n",
    "\n",
    "graph = Graph(neo4jConnAddress, auth=(user,password))\n"
   ]
  },
  {
   "cell_type": "code",
   "execution_count": 16,
   "metadata": {},
   "outputs": [
    {
     "data": {
      "text/html": [
       "<table><tr><th>id</th><th>name</th><th>type</th><th>entityType</th><th>labelsOrTypes</th><th>properties</th><th>ownedIndex</th></tr><tr><td style=\"text-align:right\">6</td><td style=\"text-align:left\">constraint_255e93b</td><td style=\"text-align:left\">UNIQUENESS</td><td style=\"text-align:left\">NODE</td><td style=\"text-align:left\">[&#039;Sejour&#039;]</td><td style=\"text-align:left\">[&#039;Name&#039;]</td><td style=\"text-align:left\">constraint_255e93b</td></tr><tr><td style=\"text-align:right\">10</td><td style=\"text-align:left\">constraint_8a4a96e8</td><td style=\"text-align:left\">UNIQUENESS</td><td style=\"text-align:left\">NODE</td><td style=\"text-align:left\">[&#039;Uf&#039;]</td><td style=\"text-align:left\">[&#039;Name&#039;]</td><td style=\"text-align:left\">constraint_8a4a96e8</td></tr><tr><td style=\"text-align:right\">4</td><td style=\"text-align:left\">constraint_deebdaf8</td><td style=\"text-align:left\">UNIQUENESS</td><td style=\"text-align:left\">NODE</td><td style=\"text-align:left\">[&#039;Acte&#039;]</td><td style=\"text-align:left\">[&#039;Ref&#039;]</td><td style=\"text-align:left\">constraint_deebdaf8</td></tr></table>"
      ],
      "text/plain": [
       " id | name                | type       | entityType | labelsOrTypes | properties | ownedIndex          \n",
       "----|---------------------|------------|------------|---------------|------------|---------------------\n",
       "  6 | constraint_255e93b  | UNIQUENESS | NODE       | ['Sejour']    | ['Name']   | constraint_255e93b  \n",
       " 10 | constraint_8a4a96e8 | UNIQUENESS | NODE       | ['Uf']        | ['Name']   | constraint_8a4a96e8 \n",
       "  4 | constraint_deebdaf8 | UNIQUENESS | NODE       | ['Acte']      | ['Ref']    | constraint_deebdaf8 "
      ]
     },
     "execution_count": 16,
     "metadata": {},
     "output_type": "execute_result"
    }
   ],
   "source": [
    "#CHECK THE CONSTRAINTS IN THE DATABASE\n",
    "graph.run(\"SHOW ALL CONSTRAINTS\")"
   ]
  },
  {
   "cell_type": "code",
   "execution_count": 17,
   "metadata": {},
   "outputs": [
    {
     "data": {
      "text/plain": [
       "4"
      ]
     },
     "execution_count": 17,
     "metadata": {},
     "output_type": "execute_result"
    }
   ],
   "source": [
    "len(graph.run(\"SHOW ALL CONSTRAINTS\").data())"
   ]
  },
  {
   "cell_type": "code",
   "execution_count": 13,
   "metadata": {},
   "outputs": [
    {
     "data": {
      "text/html": [
       "(No data)"
      ],
      "text/plain": [
       "(No data)"
      ]
     },
     "execution_count": 13,
     "metadata": {},
     "output_type": "execute_result"
    }
   ],
   "source": [
    "graph.run(\"DROP CONSTRAINT constraint_deebdaf8\")\n"
   ]
  },
  {
   "cell_type": "code",
   "execution_count": 15,
   "metadata": {},
   "outputs": [
    {
     "data": {
      "text/html": [
       "(No data)"
      ],
      "text/plain": [
       "(No data)"
      ]
     },
     "execution_count": 15,
     "metadata": {},
     "output_type": "execute_result"
    }
   ],
   "source": [
    "#CREATE THE CONSTRAINTS\n",
    "graph.run(\"CREATE CONSTRAINT FOR (s:Sejour) REQUIRE s.Name IS UNIQUE\")\n",
    "graph.run(\"CREATE CONSTRAINT FOR (u:Uf) REQUIRE u.Name IS UNIQUE\")\n",
    "graph.run(\"CREATE CONSTRAINT FOR (a:Acte) REQUIRE a.Ref IS UNIQUE\")\n",
    "graph.run(\"CREATE CONSTRAINT FOR (seq:Sequence) REQUIRE seq.Name IS UNIQUE\")"
   ]
  },
  {
   "cell_type": "code",
   "execution_count": 18,
   "metadata": {},
   "outputs": [
    {
     "data": {
      "text/html": [
       "(No data)"
      ],
      "text/plain": [
       "(No data)"
      ]
     },
     "execution_count": 18,
     "metadata": {},
     "output_type": "execute_result"
    }
   ],
   "source": [
    "#MAKE THE DATABASE EMPTY BEFORE IMPORTING DATA\n",
    "graph.run(\"MATCH (n) DETACH DELETE n\")"
   ]
  },
  {
   "cell_type": "code",
   "execution_count": 96,
   "metadata": {},
   "outputs": [
    {
     "name": "stdout",
     "output_type": "stream",
     "text": [
      "(_72:Uf {id: '8532'})\n"
     ]
    },
    {
     "data": {
      "text/plain": [
       "py2neo.data.Node"
      ]
     },
     "execution_count": 96,
     "metadata": {},
     "output_type": "execute_result"
    }
   ],
   "source": [
    "result=graph.run(\"MATCH (u:Uf {id: '8532'}) RETURN u\")\n",
    "\n",
    "for record in result:\n",
    "    # Access fields by name\n",
    "    name = record[\"u\"]\n",
    "    print(name)\n",
    "type(name)"
   ]
  },
  {
   "cell_type": "code",
   "execution_count": 5,
   "metadata": {},
   "outputs": [
    {
     "data": {
      "text/html": [
       "<table><tr><th>n</th></tr><tr><td style=\"text-align:left\">(_173:Acte {Ref: &#039;FTNTP2&#039;})</td></tr><tr><td style=\"text-align:left\">(_174:Uf {Activite: &#039;TEP&#039;, Dimension_Parcours: &#039;Soins&#039;, Name: &#039;8532&#039;, Phase: &#039;Diagnostic&#039;, Service: &#039;M\\u00e9decine Nucl\\u00e9aire&#039;})</td></tr><tr><td style=\"text-align:left\">(_175:Acte {Ref: &#039;ZZQL016&#039;})</td></tr></table>"
      ],
      "text/plain": [
       " n                                                                                                                                    \n",
       "--------------------------------------------------------------------------------------------------------------------------------------\n",
       " (_173:Acte {Ref: 'FTNTP2'})                                                                                                          \n",
       " (_174:Uf {Activite: 'TEP', Dimension_Parcours: 'Soins', Name: '8532', Phase: 'Diagnostic', Service: 'M\\u00e9decine Nucl\\u00e9aire'}) \n",
       " (_175:Acte {Ref: 'ZZQL016'})                                                                                                         "
      ]
     },
     "execution_count": 5,
     "metadata": {},
     "output_type": "execute_result"
    }
   ],
   "source": [
    "\n",
    "graph.run(\"MATCH (n) RETURN n;\")"
   ]
  },
  {
   "cell_type": "code",
   "execution_count": 19,
   "metadata": {},
   "outputs": [
    {
     "data": {
      "text/html": [
       "<div>\n",
       "<style scoped>\n",
       "    .dataframe tbody tr th:only-of-type {\n",
       "        vertical-align: middle;\n",
       "    }\n",
       "\n",
       "    .dataframe tbody tr th {\n",
       "        vertical-align: top;\n",
       "    }\n",
       "\n",
       "    .dataframe thead th {\n",
       "        text-align: right;\n",
       "    }\n",
       "</style>\n",
       "<table border=\"1\" class=\"dataframe\">\n",
       "  <thead>\n",
       "    <tr style=\"text-align: right;\">\n",
       "      <th></th>\n",
       "      <th>NIP</th>\n",
       "      <th>J_Parcours</th>\n",
       "      <th>DateDebutActe</th>\n",
       "      <th>DateFinActe</th>\n",
       "      <th>UF</th>\n",
       "      <th>Service</th>\n",
       "      <th>Phase_Parcours</th>\n",
       "      <th>Activite</th>\n",
       "      <th>Dimension_Parcours</th>\n",
       "      <th>Ref_Acte</th>\n",
       "      <th>id_Sequence</th>\n",
       "      <th>Type_Sequence</th>\n",
       "      <th>id_sejour</th>\n",
       "    </tr>\n",
       "  </thead>\n",
       "  <tbody>\n",
       "    <tr>\n",
       "      <th>0</th>\n",
       "      <td>N201900002</td>\n",
       "      <td>0</td>\n",
       "      <td>2019-01-02 00:00:00.000</td>\n",
       "      <td>2019-01-02 00:00:00.000</td>\n",
       "      <td>8532</td>\n",
       "      <td>Médecine Nucléaire</td>\n",
       "      <td>Diagnostic</td>\n",
       "      <td>TEP</td>\n",
       "      <td>Soins</td>\n",
       "      <td>FTNTP2</td>\n",
       "      <td>12513</td>\n",
       "      <td>INIT_NEW</td>\n",
       "      <td>N1771659</td>\n",
       "    </tr>\n",
       "    <tr>\n",
       "      <th>1</th>\n",
       "      <td>N201900002</td>\n",
       "      <td>0</td>\n",
       "      <td>2019-01-02 00:00:00.000</td>\n",
       "      <td>2019-01-02 00:00:00.000</td>\n",
       "      <td>8532</td>\n",
       "      <td>Médecine Nucléaire</td>\n",
       "      <td>Diagnostic</td>\n",
       "      <td>TEP</td>\n",
       "      <td>Soins</td>\n",
       "      <td>ZZQL016</td>\n",
       "      <td>12513</td>\n",
       "      <td>INIT_NEW</td>\n",
       "      <td>N1771659</td>\n",
       "    </tr>\n",
       "    <tr>\n",
       "      <th>2</th>\n",
       "      <td>N201900002</td>\n",
       "      <td>0</td>\n",
       "      <td>2019-01-02 00:00:00.000</td>\n",
       "      <td>2019-01-02 00:00:00.000</td>\n",
       "      <td>1001</td>\n",
       "      <td>Médecine Nucléaire</td>\n",
       "      <td>Diagnostic</td>\n",
       "      <td>TEP</td>\n",
       "      <td>Soins</td>\n",
       "      <td>FTNTP2</td>\n",
       "      <td>12513</td>\n",
       "      <td>INIT_NEW</td>\n",
       "      <td>N160017801</td>\n",
       "    </tr>\n",
       "    <tr>\n",
       "      <th>3</th>\n",
       "      <td>N201900002</td>\n",
       "      <td>37</td>\n",
       "      <td>2019-02-08 00:00:00.000</td>\n",
       "      <td>2019-02-08 00:00:00.000</td>\n",
       "      <td>9050</td>\n",
       "      <td>Radiothérapie</td>\n",
       "      <td>Consultation</td>\n",
       "      <td>Consultations</td>\n",
       "      <td>Soins</td>\n",
       "      <td>CS</td>\n",
       "      <td>12513</td>\n",
       "      <td>INIT_NEW</td>\n",
       "      <td>N1791270</td>\n",
       "    </tr>\n",
       "    <tr>\n",
       "      <th>4</th>\n",
       "      <td>N201900002</td>\n",
       "      <td>37</td>\n",
       "      <td>2019-02-08 00:00:00.000</td>\n",
       "      <td>2019-02-08 00:00:00.000</td>\n",
       "      <td>9050</td>\n",
       "      <td>Radiothérapie</td>\n",
       "      <td>Consultation</td>\n",
       "      <td>Consultations</td>\n",
       "      <td>Soins</td>\n",
       "      <td>MCS</td>\n",
       "      <td>12513</td>\n",
       "      <td>INIT_NEW</td>\n",
       "      <td>N1791270</td>\n",
       "    </tr>\n",
       "  </tbody>\n",
       "</table>\n",
       "</div>"
      ],
      "text/plain": [
       "          NIP  J_Parcours            DateDebutActe              DateFinActe  \\\n",
       "0  N201900002           0  2019-01-02 00:00:00.000  2019-01-02 00:00:00.000   \n",
       "1  N201900002           0  2019-01-02 00:00:00.000  2019-01-02 00:00:00.000   \n",
       "2  N201900002           0  2019-01-02 00:00:00.000  2019-01-02 00:00:00.000   \n",
       "3  N201900002          37  2019-02-08 00:00:00.000  2019-02-08 00:00:00.000   \n",
       "4  N201900002          37  2019-02-08 00:00:00.000  2019-02-08 00:00:00.000   \n",
       "\n",
       "     UF             Service Phase_Parcours       Activite Dimension_Parcours  \\\n",
       "0  8532  Médecine Nucléaire     Diagnostic            TEP              Soins   \n",
       "1  8532  Médecine Nucléaire     Diagnostic            TEP              Soins   \n",
       "2  1001  Médecine Nucléaire     Diagnostic            TEP              Soins   \n",
       "3  9050       Radiothérapie   Consultation  Consultations              Soins   \n",
       "4  9050       Radiothérapie   Consultation  Consultations              Soins   \n",
       "\n",
       "  Ref_Acte  id_Sequence Type_Sequence   id_sejour  \n",
       "0   FTNTP2        12513      INIT_NEW    N1771659  \n",
       "1  ZZQL016        12513      INIT_NEW    N1771659  \n",
       "2   FTNTP2        12513      INIT_NEW  N160017801  \n",
       "3       CS        12513      INIT_NEW    N1791270  \n",
       "4      MCS        12513      INIT_NEW    N1791270  "
      ]
     },
     "execution_count": 19,
     "metadata": {},
     "output_type": "execute_result"
    }
   ],
   "source": [
    "# Define the filepath of the import csvfile\n",
    "file_path = r'..\\01_Datasets\\DL_Project_Dataset_Sample_V3.csv'\n",
    "# Read the CSV file into a DataFrame\n",
    "df = pd.read_csv(file_path, sep=';')\n",
    "# Display the first few rows of the DataFrame\n",
    "df.head()  \n"
   ]
  },
  {
   "cell_type": "code",
   "execution_count": 20,
   "metadata": {},
   "outputs": [],
   "source": [
    "#Function to extract information from a row\n",
    "\n",
    "def extract_data(row):\n",
    "    acte = {\n",
    "        'Jp': row.get('J_Parcours', None),\n",
    "        'DDA': row.get('DateDebutActe', None),\n",
    "        'DDF': row.get('DateFinActe', None),\n",
    "        'Ref': row.get('Ref_Acte', None),\n",
    "        'NIP': row.get('NIP', None)\n",
    "    }\n",
    "\n",
    "    uf = {\n",
    "        'name': row.get('UF', None),\n",
    "        'service': row.get('Service', None),\n",
    "        'phase_parcours': row.get('Phase_Parcours', None),\n",
    "        'activite': row.get('Activite', None),\n",
    "        'dim_parcours': row.get('Dimension_Parcours', None)\n",
    "    }\n",
    "\n",
    "    sequence = {\n",
    "        'id': row.get('id_Sequence', None),\n",
    "        'type': row.get('Type_Sequence', None)\n",
    "    }\n",
    "\n",
    "    sejour = {\n",
    "        'id': row.get('id_sejour', None)\n",
    "    }\n",
    "\n",
    "    return acte, uf, sequence, sejour"
   ]
  },
  {
   "cell_type": "code",
   "execution_count": 22,
   "metadata": {},
   "outputs": [],
   "source": [
    "#MODELIZATION 1 : \n",
    "#NOEUDS : SEQUENCE, SEJOURS, ACTES, UF\n",
    "#RELATIONS : \n",
    "    # SEQ-FOLLOWS(NIP)->SEQ \n",
    "    # SEJ-FOLLOWS(NIP)->SEJ  \n",
    "    # ACTES-FOLLOWS(NIP)-> ACTE\n",
    "    # ACTES-REALIZED_IN(UF attributes)->UF\n",
    "\n",
    "#INITIALISATION \n",
    "graph.run(\"MATCH (n) DETACH DELETE n\") #CLEAR THE DATABASE\n",
    "old_row=None\n",
    "output=False\n",
    "\n",
    "# Iterate over the rows of the DataFrame\n",
    "for index, row in df.iterrows():\n",
    "    # Extract values from the DataFrame\n",
    "    acte, uf, sequence, sejour = extract_data(row)\n",
    "\n",
    "    # Check if a node with the same Ref property already exists\n",
    "    nbNodeUf = len(graph.run(f\"MATCH (u:Uf {{Name: '{uf['name']}'}}) RETURN u\").data())\n",
    "    nbNodeActe = len(graph.run(f\"MATCH (a:Acte {{Ref: '{acte['Ref']}'}}) RETURN a\").data())\n",
    "    nbNodeSejour=len(graph.run(f\"MATCH (s:Sejour {{Name: '{sejour['id']}'}}) RETURN s\").data())\n",
    "    nbNodeSequence=len(graph.run(f\"MATCH (s:Sequence {{Name: '{sequence['id']}'}}) RETURN s\").data())\n",
    "\n",
    "    #CREATION DES NODES ACTES\n",
    "    if nbNodeActe==0:\n",
    "        # Create Acte node\n",
    "        query = f\"\"\"\n",
    "        CREATE (:Acte {{Ref: \"{acte['Ref']}\"}})\n",
    "        \"\"\"\n",
    "        graph.run(query)\n",
    "    else:\n",
    "        if output: print(f\"Node Acte with Ref {acte['Ref']} already exists\")\n",
    "    \n",
    "    #CREATION DES NODES UF\n",
    "    if nbNodeUf==0:\n",
    "        # Create Uf node\n",
    "        query = f\"\"\"\n",
    "        CREATE (:Uf {{Name: \"{uf['name']}\",Service: \"{uf['service']}\",Phase: \"{uf['phase_parcours']}\",Activite:\"{uf['activite']}\",Dimension_Parcours:\"{uf['dim_parcours']}\"}})\n",
    "        \"\"\"\n",
    "        graph.run(query)\n",
    "    else:\n",
    "        if output: print(f\"Node UF with id {uf['name']} already exists\")\n",
    "\n",
    "    # Create relationship between Acte and Uf nodes\n",
    "    query = f\"\"\"\n",
    "    MATCH (a:Acte {{Ref: \"{acte['Ref']}\"}})\n",
    "    MATCH (u:Uf {{Name: \"{uf['name']}\"}})\n",
    "    MERGE (a)-[:REALIZED_IN {{For_Patient_ID: \"{acte['NIP']}\", J_Parcours: \"{acte['Jp']}\", DDA: \"{acte['DDA']}\", DDF: \"{acte['DDF']}\"}}]->(u)\n",
    "    \"\"\"\n",
    "    graph.run(query)\n",
    "\n",
    "    #CREATION DES NODES SEJOURS\n",
    "    if nbNodeSejour==0:\n",
    "        # Create Acte node\n",
    "        query = f\"\"\"\n",
    "        CREATE (:Sejour {{Name: \"{sejour['id']}\"}})\n",
    "        \"\"\"\n",
    "        graph.run(query)\n",
    "    else:\n",
    "        if output: print(f\"Node Sejour with Name {sejour['id']} already exists\")\n",
    "\n",
    "    #CREATION DES NODES SEQUENCES\n",
    "    if nbNodeSequence==0:\n",
    "        # Create Acte node\n",
    "        query = f\"\"\"\n",
    "        CREATE (:Sequence {{Name: \"{sequence['id']}\"}})\n",
    "        \"\"\"\n",
    "        graph.run(query)\n",
    "    else:\n",
    "        if output: print(f\"Node Sequence with Name {sequence['id']} already exists\")\n",
    "\n",
    "    # Create relationship between Acte and Sejours\n",
    "    query = f\"\"\"\n",
    "    MATCH (a:Acte {{Ref: \"{acte['Ref']}\"}})\n",
    "    MATCH (s:Sejour {{Name: \"{sejour['id']}\"}})\n",
    "    MERGE (s)-[:Composed_with]->(a)\n",
    "    \"\"\"\n",
    "    graph.run(query)\n",
    "\n",
    "    # Create relationship between Sejours and Sequence\n",
    "    query = f\"\"\"\n",
    "    MATCH (s:Sejour {{Name: \"{sejour['id']}\"}})\n",
    "    MATCH (seq:Sequence {{Name: \"{sequence['id']}\"}})\n",
    "    MERGE (seq)-[:Composed_with]->(s)\n",
    "    \"\"\"\n",
    "    graph.run(query)\n",
    "\n",
    "\n",
    "    #CREATE ORDER RELATIONS IN THE JOURNEY\n",
    "    if output : print('check old row is not none')\n",
    "    if output :print(old_row)\n",
    "    if old_row is not None:\n",
    "        #Recall the previous activity of the patient and connect to the actual activity:\n",
    "        old_acte, old_uf, old_sequence, old_sejour = extract_data(old_row)\n",
    "        if output : print('Try to create relations between actes')\n",
    "\n",
    "        if old_acte['NIP']==acte['NIP']: #Check if we are dealing with the same patient\n",
    "            if output :  print('NIP and old NIP are equal')\n",
    "            #then we connect the acte to te previous one\n",
    "            query = f\"\"\"\n",
    "            MATCH (a:Acte {{Ref: \"{acte['Ref']}\"}})\n",
    "            MATCH (pa:Acte {{Ref: \"{old_acte['Ref']}\"}})\n",
    "            MERGE (pa)-[:Followed_by {{For_Patient_ID: \"{acte['NIP']}\"}}]->(a)\n",
    "            \"\"\"\n",
    "            graph.run(query)\n",
    "\n",
    "            if old_sejour['id']!=sejour['id']: #Check if we are dealing with a new sejour\n",
    "                if output :  print('Sejour is a new one')\n",
    "                #then we connect the sejour to te previous one\n",
    "                query = f\"\"\"\n",
    "                MATCH (s:Sejour {{Name: \"{sejour['id']}\"}})\n",
    "                MATCH (ps:Sejour {{Name: \"{old_sejour['id']}\"}})\n",
    "                MERGE (ps)-[:Followed_by {{For_Patient_ID: \"{acte['NIP']}\"}}]->(s)\n",
    "                \"\"\"\n",
    "                graph.run(query)\n",
    "\n",
    "                if old_sequence['id']!=sequence['id']: #Check if we are dealing with a new sequence\n",
    "                    if output :  print('Sequence is a new one')\n",
    "                    #then we connect the sejour to te previous one\n",
    "                    query = f\"\"\"\n",
    "                    MATCH (seq:Sequence {{Name: \"{sequence['id']}\"}})\n",
    "                    MATCH (pseq:Sequence {{Name: \"{old_sequence['id']}\"}})\n",
    "                    MERGE (pseq)-[:Followed_by {{For_Patient_ID: \"{acte['NIP']}\"}}]->(seq)\n",
    "                    \"\"\"\n",
    "                    graph.run(query)\n",
    "\n",
    "    #STORE THE ACTUAL ROW TO THE PREVIOUS ROW BEFORE NEXT ITTERATION\n",
    "    old_row = row"
   ]
  },
  {
   "cell_type": "code",
   "execution_count": 21,
   "metadata": {},
   "outputs": [],
   "source": [
    "#MODELIZATION 2 : \n",
    "#NOEUDS : ACTES only.\n",
    "#RELATIONS : \n",
    "    # ACTES-FOLLOWS(NIP)-> ACTE\n",
    "    # ACTES-REALIZED_IN(UF attributes)->UF\n",
    "\n",
    "#INITIALISATION \n",
    "graph.run(\"MATCH (n) DETACH DELETE n\") #CLEAR THE DATABASE\n",
    "old_row=None\n",
    "output=False\n",
    "\n",
    "# Iterate over the rows of the DataFrame\n",
    "for index, row in df.iterrows():\n",
    "    # Extract values from the DataFrame\n",
    "    acte, uf, sequence, sejour = extract_data(row)\n",
    "\n",
    "    # Check if a node with the same Ref property already exists\n",
    "    nbNodeUf = len(graph.run(f\"MATCH (u:Uf {{Name: '{uf['name']}'}}) RETURN u\").data())\n",
    "    nbNodeActe = len(graph.run(f\"MATCH (a:Acte {{Ref: '{acte['Ref']}'}}) RETURN a\").data())\n",
    "    nbNodeSejour=len(graph.run(f\"MATCH (s:Sejour {{Name: '{sejour['id']}'}}) RETURN s\").data())\n",
    "    nbNodeSequence=len(graph.run(f\"MATCH (s:Sequence {{Name: '{sequence['id']}'}}) RETURN s\").data())\n",
    "\n",
    "    #CREATION DES NODES ACTES\n",
    "    if nbNodeActe==0:\n",
    "        # Create Acte node\n",
    "        query = f\"\"\"\n",
    "        CREATE (:Acte {{Ref: \"{acte['Ref']}\"}})\n",
    "        \"\"\"\n",
    "        graph.run(query)\n",
    "    else:\n",
    "        if output: print(f\"Node Acte with Ref {acte['Ref']} already exists\")\n",
    "\n",
    "\n",
    "    if old_row is not None:\n",
    "        #Recall the previous activity of the patient and connect to the actual activity:\n",
    "        old_acte, old_uf, old_sequence, old_sejour = extract_data(old_row)\n",
    "        if output : print('Try to create relations between actes')\n",
    "\n",
    "        if old_acte['NIP']==acte['NIP']: #Check if we are dealing with the same patient\n",
    "            if output :  print('NIP and old NIP are equal')\n",
    "            #then we connect the acte to te previous one\n",
    "            query = f\"\"\"\n",
    "            MATCH (a:Acte {{Ref: \"{acte['Ref']}\"}})\n",
    "            MATCH (pa:Acte {{Ref: \"{old_acte['Ref']}\"}})\n",
    "            MERGE (pa)-[:Followed_by {{For_Patient_ID: \"{acte['NIP']}\", J_Parcours: \"{acte['Jp']}\"\n",
    "                        ,DateDebutActe: \"{acte['DDA']}\",DateFinActe: \"{acte['DDF']}\"\n",
    "                        ,UF: \"{uf['name']}\",Service: \"{uf['service']}\"\n",
    "                        ,Phase: \"{uf['phase_parcours']}\",Activite: \"{uf['activite']}\"\n",
    "                        ,Dim_parcours: \"{uf['dim_parcours']}\"\n",
    "                        }}]->(a)\n",
    "            \"\"\"\n",
    "            graph.run(query)\n",
    "    \n",
    "    #STORE THE ACTUAL ROW TO THE PREVIOUS ROW BEFORE NEXT ITTERATION\n",
    "    old_row = row\n",
    "\n",
    "    uf = {\n",
    "        'name': row.get('UF', None),\n",
    "        'service': row.get('Service', None),\n",
    "        'phase_parcours': row.get('Phase_Parcours', None),\n",
    "        'activite': row.get('Activite', None),\n",
    "        'dim_parcours': row.get('Dimension_Parcours', None)\n",
    "    }"
   ]
  },
  {
   "cell_type": "code",
   "execution_count": 26,
   "metadata": {},
   "outputs": [
    {
     "data": {
      "text/plain": [
       "1"
      ]
     },
     "execution_count": 26,
     "metadata": {},
     "output_type": "execute_result"
    }
   ],
   "source": [
    "result_uf =graph.run(\"MATCH (u:Uf {Name: '8532'}) RETURN u\").data()\n",
    "len(result_uf)"
   ]
  }
 ],
 "metadata": {
  "kernelspec": {
   "display_name": "DL_Project",
   "language": "python",
   "name": "python3"
  },
  "language_info": {
   "codemirror_mode": {
    "name": "ipython",
    "version": 3
   },
   "file_extension": ".py",
   "mimetype": "text/x-python",
   "name": "python",
   "nbconvert_exporter": "python",
   "pygments_lexer": "ipython3",
   "version": "3.11.0"
  }
 },
 "nbformat": 4,
 "nbformat_minor": 2
}
